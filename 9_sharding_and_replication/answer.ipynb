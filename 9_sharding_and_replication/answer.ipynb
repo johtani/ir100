{
 "cells": [
  {
   "cell_type": "markdown",
   "metadata": {},
   "source": [
    "# 9. シャーディングとレプリケーション\n",
    "\n"
   ]
  },
  {
   "cell_type": "markdown",
   "metadata": {},
   "source": [
    "## 0. 準備\n",
    "\n",
    "前章で作成したWebサーバ（以下、検索エンジンと呼ぶ）を異なるポートで2つ立ち上げよ。\n",
    "それぞれ**シャード0, シャード1**と呼んで区別する。\n",
    "\n"
   ]
  },
  {
   "cell_type": "markdown",
   "metadata": {},
   "source": [
    "### 回答\n"
   ]
  },
  {
   "cell_type": "code",
   "execution_count": null,
   "metadata": {
    "vscode": {
     "languageId": "plaintext"
    }
   },
   "outputs": [],
   "source": []
  },
  {
   "cell_type": "markdown",
   "metadata": {},
   "source": [
    "## 1. 並列更新\n",
    "\n",
    "以下のエンドポイントを持つ新たなWebサーバを実装せよ。\n",
    "\n",
    "- `/update`: 製品群をHTTP POSTすると、各 `product_id` のMD5を計算する。その2の剰余が0の製品群をまとめてシャード0の、1の製品群をまとめてシャード1の、同名のエンドポイントに並列に転送する。\n",
    "\n",
    "以下、このWebサーバを**ルータ**と呼ぶ。\n",
    "\n"
   ]
  },
  {
   "cell_type": "markdown",
   "metadata": {},
   "source": [
    "### 回答\n"
   ]
  },
  {
   "cell_type": "code",
   "execution_count": null,
   "metadata": {
    "vscode": {
     "languageId": "plaintext"
    }
   },
   "outputs": [],
   "source": []
  },
  {
   "cell_type": "markdown",
   "metadata": {},
   "source": [
    "## 2. 並列更新ベンチマーク\n",
    "\n",
    "ルータを介して `8.5` を行え。\n",
    "\n",
    "> ヒント：実行環境のリソースの枯渇に注意せよ。枯渇する場合は実装を見直し、それでも枯渇する場合は製品データを適度にサンプリングせよ（以降の問題でも同じ）。\n",
    "\n"
   ]
  },
  {
   "cell_type": "markdown",
   "metadata": {},
   "source": [
    "### 回答\n"
   ]
  },
  {
   "cell_type": "code",
   "execution_count": null,
   "metadata": {
    "vscode": {
     "languageId": "plaintext"
    }
   },
   "outputs": [],
   "source": []
  },
  {
   "cell_type": "markdown",
   "metadata": {},
   "source": [
    "## 3. 並列検索\n",
    "\n",
    "ルータに新たに以下のエンドポイントを実装せよ。\n",
    "\n",
    "- `/select`: `query` をHTTP GETすると、両シャードの同名のエンドポイントに並列に転送する。両レスポンスが揃ったら、製品群をまとめて並べ直し、優先度の上位10件までを返す。\n",
    "\n"
   ]
  },
  {
   "cell_type": "markdown",
   "metadata": {},
   "source": [
    "### 回答\n"
   ]
  },
  {
   "cell_type": "code",
   "execution_count": null,
   "metadata": {
    "vscode": {
     "languageId": "plaintext"
    }
   },
   "outputs": [],
   "source": []
  },
  {
   "cell_type": "markdown",
   "metadata": {},
   "source": [
    "## 4. 並列検索ベンチマーク\n",
    "\n",
    "ルータを介して `8.6` を行え。\n",
    "\n"
   ]
  },
  {
   "cell_type": "markdown",
   "metadata": {},
   "source": [
    "### 回答\n"
   ]
  },
  {
   "cell_type": "code",
   "execution_count": null,
   "metadata": {
    "vscode": {
     "languageId": "plaintext"
    }
   },
   "outputs": [],
   "source": []
  },
  {
   "cell_type": "markdown",
   "metadata": {},
   "source": [
    "## 5. レスポンスの分割\n",
    "\n",
    "ルータにおける `/select` の処理では半数までの製品群が捨てられる可能性がある。\n",
    "捨てられる `product_title` の通信を省くため、以下のようにルータ-検索エンジン間でリクエスト/レスポンスを2往復させよ。\n",
    "\n",
    "- 第1往復では、レスポンスは優先度と `product_id` のみを含む。これだけの情報があればルータで製品群の並べ直しを行えることに注意せよ。\n",
    "- 第2往復では、レスポンスは並べ直しの結果上位の `product_title` のみを含む。\n",
    "\n",
    "ただし、既存の機能とはエンドポイントを分けるか、リクエストパラメータによって初めて有効になるように実装せよ。\n",
    "なお、検索エンジンへの追加実装も必要である。\n",
    "\n"
   ]
  },
  {
   "cell_type": "markdown",
   "metadata": {},
   "source": [
    "### 回答\n"
   ]
  },
  {
   "cell_type": "code",
   "execution_count": null,
   "metadata": {
    "vscode": {
     "languageId": "plaintext"
    }
   },
   "outputs": [],
   "source": []
  },
  {
   "cell_type": "markdown",
   "metadata": {},
   "source": [
    "## 6. レプリケーション\n",
    "\n",
    "検索エンジンを異なるポートで4つ立ち上げよ。\n",
    "それぞれ**シャード0レプリカ0, シャード0レプリカ1, シャード1レプリカ0, シャード1レプリカ1**と呼んで区別する。\n",
    "\n",
    "ルータで `/update` の処理を行うとき、シャードごとの両レプリカに**同じ**製品群を並列に転送するようにし、再度ルータを介して `8.5` を行え。\n",
    "\n"
   ]
  },
  {
   "cell_type": "markdown",
   "metadata": {},
   "source": [
    "### 回答\n"
   ]
  },
  {
   "cell_type": "code",
   "execution_count": null,
   "metadata": {
    "vscode": {
     "languageId": "plaintext"
    }
   },
   "outputs": [],
   "source": []
  },
  {
   "cell_type": "markdown",
   "metadata": {},
   "source": [
    "## 7. 負荷分散\n",
    "\n",
    "2レプリカの環境では、ルータで `/select` の処理を行うとき、（シャード0レプリカ0, シャード1レプリカ0）のペアまたは（シャード0レプリカ1, シャード1レプリカ1）のペアのうち空いている方を選んで転送することが考えられる。\n",
    "これを実装し、再度ルータを介して `8.6` を行え。\n",
    "ただしルータへのリクエストも並列に送る必要があることに注意せよ。\n",
    "\n"
   ]
  },
  {
   "cell_type": "markdown",
   "metadata": {},
   "source": [
    "### 回答\n"
   ]
  },
  {
   "cell_type": "code",
   "execution_count": null,
   "metadata": {
    "vscode": {
     "languageId": "plaintext"
    }
   },
   "outputs": [],
   "source": []
  },
  {
   "cell_type": "markdown",
   "metadata": {},
   "source": [
    "## 8. 動的レプリケーション\n",
    "\n",
    "レプリカを動的に増やせるようにせよ。\n",
    "ここで動的であるとは、既存の検索エンジンやルータを立ち上げ直したり、ルータから全ての製品を `/update` し直したりする必要が**ない**ことを指す。\n",
    "\n"
   ]
  },
  {
   "cell_type": "markdown",
   "metadata": {},
   "source": [
    "### 回答\n"
   ]
  },
  {
   "cell_type": "code",
   "execution_count": null,
   "metadata": {
    "vscode": {
     "languageId": "plaintext"
    }
   },
   "outputs": [],
   "source": []
  },
  {
   "cell_type": "markdown",
   "metadata": {},
   "source": [
    "## 9. 動的シャーディング\n",
    "\n",
    "シャードを動的に増やせるようにせよ。\n",
    "\n",
    "> ヒント：例えばMD5の2の剰余が0の製品群は、さらに4の剰余が0の製品群と2の製品群とに分割できる。\n"
   ]
  },
  {
   "cell_type": "markdown",
   "metadata": {},
   "source": [
    "### 回答\n"
   ]
  },
  {
   "cell_type": "code",
   "execution_count": null,
   "metadata": {
    "vscode": {
     "languageId": "plaintext"
    }
   },
   "outputs": [],
   "source": []
  }
 ],
 "metadata": {
  "kernelspec": {
   "display_name": ".venv",
   "language": "python",
   "name": "python3"
  },
  "language_info": {
   "codemirror_mode": {
    "name": "ipython",
    "version": 3
   },
   "file_extension": ".py",
   "mimetype": "text/x-python",
   "name": "python",
   "nbconvert_exporter": "python",
   "pygments_lexer": "ipython3",
   "version": "3.11.4"
  },
  "orig_nbformat": 4
 },
 "nbformat": 4,
 "nbformat_minor": 2
}

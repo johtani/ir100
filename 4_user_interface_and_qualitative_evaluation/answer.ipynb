{
  "cells": [
    {
      "cell_type": "markdown",
      "metadata": {},
      "source": [
        "# 4. ユーザインタフェースと定性評価\n",
        "\n"
      ]
    },
    {
      "cell_type": "markdown",
      "metadata": {},
      "source": [
        "## 0. 準備\n",
        "\n",
        "以下のエンドポイントを持つWebサーバを実装せよ。\n",
        "\n",
        "- `/select` : `query` をHTTP GETすると、それを単語と解釈して保持している転置インデックスを引き、`product_id` の辞書順に10件までの製品情報を返す。\n",
        "\n",
        "ただし、転置インデックスは `product_title` に張り、少なくとも `query` との関連性が判定できる程度の製品情報を返すこと。\n",
        "\n",
        "また、英語製品データを保持させた状態で、簡単に動作確認をせよ。\n",
        "\n"
      ]
    },
    {
      "cell_type": "markdown",
      "metadata": {},
      "source": [
        "### 回答\n"
      ]
    },
    {
      "cell_type": "code",
      "execution_count": null,
      "metadata": {
        "vscode": {
          "languageId": "plaintext"
        }
      },
      "outputs": [],
      "source": []
    },
    {
      "cell_type": "markdown",
      "metadata": {},
      "source": [
        "## 1. ブーリアンANDクエリ\n",
        "\n",
        "`query` にスペース区切りで複数の単語を与えると、`product_title` 中に全ての単語を含む製品を返すようにせよ。\n",
        "\n"
      ]
    },
    {
      "cell_type": "markdown",
      "metadata": {},
      "source": [
        "### 回答\n"
      ]
    },
    {
      "cell_type": "code",
      "execution_count": null,
      "metadata": {
        "vscode": {
          "languageId": "plaintext"
        }
      },
      "outputs": [],
      "source": []
    },
    {
      "cell_type": "markdown",
      "metadata": {},
      "source": [
        "## 2. 検索条件\n",
        "\n",
        "`/select` の際に `query` に加えて `sort=tf` をHTTP GETすると、「`query` 中の単語が `product_description` 中に出現する回数」の降順に10件までの製品情報を返すようにせよ。\n",
        "\n"
      ]
    },
    {
      "cell_type": "markdown",
      "metadata": {},
      "source": [
        "### 回答\n"
      ]
    },
    {
      "cell_type": "code",
      "execution_count": null,
      "metadata": {
        "vscode": {
          "languageId": "plaintext"
        }
      },
      "outputs": [],
      "source": []
    },
    {
      "cell_type": "markdown",
      "metadata": {},
      "source": [
        "## 3. 定性比較\n",
        "\n",
        "いくつかの適当な `query` について、`sort=tf` の有無どちらが優れた製品情報を返すか判定せよ。\n",
        "\n"
      ]
    },
    {
      "cell_type": "markdown",
      "metadata": {},
      "source": [
        "### 回答\n"
      ]
    },
    {
      "cell_type": "code",
      "execution_count": null,
      "metadata": {
        "vscode": {
          "languageId": "plaintext"
        }
      },
      "outputs": [],
      "source": []
    },
    {
      "cell_type": "markdown",
      "metadata": {},
      "source": [
        "## 4. 評価システム\n",
        "\n",
        "新たに以下のエンドポイントを実装せよ。\n",
        "\n",
        "- `/annotate` : `query_id` をHTTP GETすると、英語結合データ上で紐づいた製品情報を返す。\n",
        "\n"
      ]
    },
    {
      "cell_type": "markdown",
      "metadata": {},
      "source": [
        "### 回答\n"
      ]
    },
    {
      "cell_type": "code",
      "execution_count": null,
      "metadata": {
        "vscode": {
          "languageId": "plaintext"
        }
      },
      "outputs": [],
      "source": []
    },
    {
      "cell_type": "markdown",
      "metadata": {},
      "source": [
        "## 5. アノテーション\n",
        "\n",
        "前問で実装したエンドポイントを用いて、いくつかの適当な `query_id` について、紐づいた全ての製品に手動でESCIラベル（Exact, Substitute, Complement, Irrelevantのいずれか）を付与せよ。\n",
        "\n"
      ]
    },
    {
      "cell_type": "markdown",
      "metadata": {},
      "source": [
        "### 回答\n"
      ]
    },
    {
      "cell_type": "code",
      "execution_count": null,
      "metadata": {
        "vscode": {
          "languageId": "plaintext"
        }
      },
      "outputs": [],
      "source": []
    },
    {
      "cell_type": "markdown",
      "metadata": {},
      "source": [
        "## 6. Inter-rater Reliability\n",
        "\n",
        "英語結合データには元々 `esci_label` が含まれる。\n",
        "これと前問の結果についてCohen's kappaを計算せよ。\n",
        "\n"
      ]
    },
    {
      "cell_type": "markdown",
      "metadata": {},
      "source": [
        "### 回答\n"
      ]
    },
    {
      "cell_type": "code",
      "execution_count": null,
      "metadata": {
        "vscode": {
          "languageId": "plaintext"
        }
      },
      "outputs": [],
      "source": []
    },
    {
      "cell_type": "markdown",
      "metadata": {},
      "source": [
        "## 7. ブーリアンORクエリ\n",
        "\n",
        "`query` で特別な単語 `OR` に対応せよ。\n",
        "この特別な単語が与えられた場合、この単語の左右それぞれが示す条件について、いずれかを満たす製品を返すようにせよ。\n",
        "言い換えると、演算子の優先順位はスペースが先、`OR` が後である。\n",
        "\n",
        "> ヒント：`query` を満たす `product_id` の配列を構築するよりも、ポスティングリストを内包するイテレータや、他の複数のイテレータを内包するイテレータを書いたほうが効率的である。\n",
        "\n"
      ]
    },
    {
      "cell_type": "markdown",
      "metadata": {},
      "source": [
        "### 回答\n"
      ]
    },
    {
      "cell_type": "code",
      "execution_count": null,
      "metadata": {
        "vscode": {
          "languageId": "plaintext"
        }
      },
      "outputs": [],
      "source": []
    },
    {
      "cell_type": "markdown",
      "metadata": {},
      "source": [
        "## 8. ポジションリスト\n",
        "\n",
        "転置インデックスを拡張する。\n",
        "単語ごと製品ごとに、`product_title` 中の出現位置（先頭から何番目の単語として出現するか）の配列も保存するようにせよ。\n",
        "ただし一般に、同じ単語が複数回出現する可能性があることに注意せよ。\n",
        "\n"
      ]
    },
    {
      "cell_type": "markdown",
      "metadata": {},
      "source": [
        "### 回答\n"
      ]
    },
    {
      "cell_type": "code",
      "execution_count": null,
      "metadata": {
        "vscode": {
          "languageId": "plaintext"
        }
      },
      "outputs": [],
      "source": []
    },
    {
      "cell_type": "markdown",
      "metadata": {},
      "source": [
        "## 9. フレーズ検索\n",
        "\n",
        "単語ではなく単語の並び（フレーズ）を指定するための特別な単語 `\"` に対応せよ。\n",
        "この単語でスペース区切りの複数の単語を挟むと、`product_title` 中にその単語の並びが出現する製品が返るようにせよ。\n",
        "\n"
      ]
    },
    {
      "cell_type": "markdown",
      "metadata": {},
      "source": [
        "### 回答\n"
      ]
    },
    {
      "cell_type": "code",
      "execution_count": null,
      "metadata": {
        "vscode": {
          "languageId": "plaintext"
        }
      },
      "outputs": [],
      "source": []
    },
    {
      "cell_type": "markdown",
      "metadata": {},
      "source": [
        "## 10. 演算子の優先順位\n",
        "\n",
        "演算子の優先順位を任意に指定するための特別な単語 `(` と `)` に対応せよ。\n",
        "例えば、`Amazon HDMI OR Cable` と `Amazon ( HDMI OR Cable )` で異なる製品情報が返るようにするということである。\n"
      ]
    },
    {
      "cell_type": "markdown",
      "metadata": {},
      "source": [
        "### 回答\n"
      ]
    },
    {
      "cell_type": "code",
      "execution_count": null,
      "metadata": {
        "vscode": {
          "languageId": "plaintext"
        }
      },
      "outputs": [],
      "source": []
    }
  ],
  "metadata": {
    "kernelspec": {
      "display_name": ".venv",
      "language": "python",
      "name": "python3"
    },
    "language_info": {
      "codemirror_mode": {
        "name": "ipython",
        "version": 3
      },
      "file_extension": ".py",
      "mimetype": "text/x-python",
      "name": "python",
      "nbconvert_exporter": "python",
      "pygments_lexer": "ipython3",
      "version": "3.11.4"
    },
    "orig_nbformat": 4
  },
  "nbformat": 4,
  "nbformat_minor": 2
}

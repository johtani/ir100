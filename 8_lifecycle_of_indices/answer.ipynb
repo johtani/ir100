{
 "cells": [
  {
   "cell_type": "markdown",
   "metadata": {},
   "source": [
    "# 8. インデックスのライフサイクル\n",
    "\n"
   ]
  },
  {
   "cell_type": "markdown",
   "metadata": {},
   "source": [
    "## 0. 準備\n",
    "\n",
    "以下のエンドポイントを持つWebサーバを実装せよ。\n",
    "ただし、入出力のフォーマットはリクエストパラメータまたはJSONとせよ。\n",
    "JSONのスキーマは自由とする。\n",
    "\n",
    "- `/update` : 製品群をHTTP POSTすると、`product_title` をスペースで区切り、転置インデックスを構築してメモリに保持する。\n",
    "- `/select` : `query` をHTTP GETすると、それを単語と解釈して（つまり、複数の単語の入力に対応する必要はない）保持している転置インデックスを引き、TFを優先度として10件までの `product_id` を返す。\n",
    "\n",
    "また、簡単に動作確認をせよ。\n",
    "動作確認のために、`product_title` も保持しておき、優先度および `product_id` と共に返せ。\n",
    "この動作のためには転置インデックスのほか、追加のデータ構造も必要になるが、以降これらをまとめて**セグメント**と呼ぶ。\n",
    "\n"
   ]
  },
  {
   "cell_type": "markdown",
   "metadata": {},
   "source": [
    "### 回答\n"
   ]
  },
  {
   "cell_type": "code",
   "execution_count": null,
   "metadata": {
    "vscode": {
     "languageId": "plaintext"
    }
   },
   "outputs": [],
   "source": []
  },
  {
   "cell_type": "markdown",
   "metadata": {},
   "source": [
    "## 1. 挿入\n",
    "\n",
    "1回のHTTP POSTのサイズには限界があるので、複数回の `/update` に対応せよ。\n",
    "ただし、既存の転置インデックスを効率よく変更するのは難しいので、`/update` のたびに追加のセグメントを保持せよ。\n",
    "`/select` の際は、保持しているセグメント全てを走査せよ。\n",
    "\n",
    "また、簡単に動作確認をせよ。\n",
    "\n"
   ]
  },
  {
   "cell_type": "markdown",
   "metadata": {},
   "source": [
    "### 回答\n"
   ]
  },
  {
   "cell_type": "code",
   "execution_count": null,
   "metadata": {
    "vscode": {
     "languageId": "plaintext"
    }
   },
   "outputs": [],
   "source": []
  },
  {
   "cell_type": "markdown",
   "metadata": {},
   "source": [
    "## 2. 論理削除\n",
    "\n",
    "新たに以下のエンドポイントを実装せよ。\n",
    "\n",
    "- `/delete` : `product_id`（複数可）をHTTP GETすると、それらが指す製品群を以降の `/select` の対象から外す。\n",
    "\n",
    "ただし、既存の転置インデックスを効率よく変更するのは難しいので、`product_id` ごとの生存フラグをセグメントに含めよ。\n",
    "`/update` の際に立て、`/delete` の際に倒し、`/select` の際に参照せよ。\n",
    "\n",
    "また、簡単に動作確認をせよ。\n",
    "\n"
   ]
  },
  {
   "cell_type": "markdown",
   "metadata": {},
   "source": [
    "### 回答\n"
   ]
  },
  {
   "cell_type": "code",
   "execution_count": null,
   "metadata": {
    "vscode": {
     "languageId": "plaintext"
    }
   },
   "outputs": [],
   "source": []
  },
  {
   "cell_type": "markdown",
   "metadata": {},
   "source": [
    "## 3. 更新\n",
    "\n",
    "既存の製品と同じ `product_id` の製品が `/update` されたとき、既存の製品の生存フラグを倒せ。\n",
    "\n",
    "また、簡単に動作確認をせよ。\n",
    "\n"
   ]
  },
  {
   "cell_type": "markdown",
   "metadata": {},
   "source": [
    "### 回答\n"
   ]
  },
  {
   "cell_type": "code",
   "execution_count": null,
   "metadata": {
    "vscode": {
     "languageId": "plaintext"
    }
   },
   "outputs": [],
   "source": []
  },
  {
   "cell_type": "markdown",
   "metadata": {},
   "source": [
    "## 4. マージと物理削除\n",
    "\n",
    "セグメントが増えるとオーバヘッドが生じる。\n",
    "そこで、`/update` によってセグメントが11個になったら、製品数が少ない順に2個のセグメントを1個のセグメントにマージすることで、常に高々10個のセグメントを保持せよ。\n",
    "このとき、生存フラグが倒れている製品は削除せよ。\n",
    "\n"
   ]
  },
  {
   "cell_type": "markdown",
   "metadata": {},
   "source": [
    "### 回答\n"
   ]
  },
  {
   "cell_type": "code",
   "execution_count": null,
   "metadata": {
    "vscode": {
     "languageId": "plaintext"
    }
   },
   "outputs": [],
   "source": []
  },
  {
   "cell_type": "markdown",
   "metadata": {},
   "source": [
    "## 5. 更新ベンチマーク\n",
    "\n",
    "英語製品データ全件を100以上に分割して `/update` しても、現実的な時間（目標：1分）で完了するようにせよ。\n",
    "さらに、その状態から再度 `/update`（更新）しても、現実的な時間（目標：2分）で完了するようにせよ。\n",
    "\n",
    "> ヒント：マージの回数を抑えるために、必要以上に分割しないようにせよ。\n",
    "\n"
   ]
  },
  {
   "cell_type": "markdown",
   "metadata": {},
   "source": [
    "### 回答\n"
   ]
  },
  {
   "cell_type": "code",
   "execution_count": null,
   "metadata": {
    "vscode": {
     "languageId": "plaintext"
    }
   },
   "outputs": [],
   "source": []
  },
  {
   "cell_type": "markdown",
   "metadata": {},
   "source": [
    "## 6. 検索ベンチマーク\n",
    "\n",
    "`product_title` 中の単語から1%をサンプリングせよ。\n",
    "それらの単語で順に `/select` して合計の所要時間を測定せよ。\n",
    "\n"
   ]
  },
  {
   "cell_type": "markdown",
   "metadata": {},
   "source": [
    "### 回答\n"
   ]
  },
  {
   "cell_type": "code",
   "execution_count": null,
   "metadata": {
    "vscode": {
     "languageId": "plaintext"
    }
   },
   "outputs": [],
   "source": []
  },
  {
   "cell_type": "markdown",
   "metadata": {},
   "source": [
    "## 7. 最適化？\n",
    "\n",
    "新たに以下のエンドポイントを実装せよ。\n",
    "\n",
    "- `/optimize` : HTTP GETすると、セグメントが高々1個になるまでマージを繰り返す。\n",
    "\n",
    "`/optimize` 後、`6.` を再度行い、所要時間を比較せよ。\n",
    "\n"
   ]
  },
  {
   "cell_type": "markdown",
   "metadata": {},
   "source": [
    "### 回答\n"
   ]
  },
  {
   "cell_type": "code",
   "execution_count": null,
   "metadata": {
    "vscode": {
     "languageId": "plaintext"
    }
   },
   "outputs": [],
   "source": []
  },
  {
   "cell_type": "markdown",
   "metadata": {},
   "source": [
    "## 8. 排他制御\n",
    "\n",
    "一般にWebサーバはリクエストを並列処理する。\n",
    "この場合にも問題がないよう、セグメントのRead/Writeロックを行え。\n",
    "\n"
   ]
  },
  {
   "cell_type": "markdown",
   "metadata": {},
   "source": [
    "### 回答\n"
   ]
  },
  {
   "cell_type": "code",
   "execution_count": null,
   "metadata": {
    "vscode": {
     "languageId": "plaintext"
    }
   },
   "outputs": [],
   "source": []
  },
  {
   "cell_type": "markdown",
   "metadata": {},
   "source": [
    "## 9. コミット\n",
    "\n",
    "新たに以下のエンドポイントを実装せよ。\n",
    "\n",
    "- `/commit`\n",
    "\n",
    "`/delete` および `/update` は、その後 `/commit` するまで `/select` の結果に影響しないようにせよ。\n"
   ]
  },
  {
   "cell_type": "markdown",
   "metadata": {},
   "source": [
    "### 回答\n"
   ]
  },
  {
   "cell_type": "code",
   "execution_count": null,
   "metadata": {
    "vscode": {
     "languageId": "plaintext"
    }
   },
   "outputs": [],
   "source": []
  }
 ],
 "metadata": {
  "kernelspec": {
   "display_name": ".venv",
   "language": "python",
   "name": "python3"
  },
  "language_info": {
   "codemirror_mode": {
    "name": "ipython",
    "version": 3
   },
   "file_extension": ".py",
   "mimetype": "text/x-python",
   "name": "python",
   "nbconvert_exporter": "python",
   "pygments_lexer": "ipython3",
   "version": "3.11.4"
  },
  "orig_nbformat": 4
 },
 "nbformat": 4,
 "nbformat_minor": 2
}

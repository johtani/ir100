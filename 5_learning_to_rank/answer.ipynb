
{
 "cells": [

  {
   "cell_type": "markdown",
   "metadata": {},
   "source": [
"# 5. Learning to Rank\n",
"\n"
   ]
  }
,
  {
   "cell_type": "markdown",
   "metadata": {},
   "source": [
"### 回答\n"

   ]
  }
,
  {
   "cell_type": "code",
   "execution_count": null,
   "metadata": {
    "vscode": {
     "languageId": "plaintext"
    }
   },
   "outputs": [],
   "source": []
  }
,
  {
   "cell_type": "markdown",
   "metadata": {},
   "source": [
"## 0. 準備\n"
,
"\n",
"英語結合データ中の各エントリは `split` が `train` であるものと `test` であるものに分けられる。\n",
"これらを別のデータに分けよ。\n",
"前者を**訓練データ**、後者を**テストデータ**とする。\n",
"\n"
   ]
  }
,
  {
   "cell_type": "markdown",
   "metadata": {},
   "source": [
"### 回答\n"

   ]
  }
,
  {
   "cell_type": "code",
   "execution_count": null,
   "metadata": {
    "vscode": {
     "languageId": "plaintext"
    }
   },
   "outputs": [],
   "source": []
  }
,
  {
   "cell_type": "markdown",
   "metadata": {},
   "source": [
"## 1. 特徴量\n"
,
"\n",
"英語結合データ中の各エントリ（クエリと製品のペア）について、それぞれ10個を超える特徴量を抽出せよ。\n",
"例えば以下の20個が考えられる。\n",
"\n",
"- `query` と {`product_title`, `product_description`} について計算した {TF, TFIDF, BM25} の、`query` 中の単語間の｛総和、平均、分散｝。\n",
"- {`product_title`, `product_description`} のフィールド長。\n",
"\n"
   ]
  }
,
  {
   "cell_type": "markdown",
   "metadata": {},
   "source": [
"### 回答\n"

   ]
  }
,
  {
   "cell_type": "code",
   "execution_count": null,
   "metadata": {
    "vscode": {
     "languageId": "plaintext"
    }
   },
   "outputs": [],
   "source": []
  }
,
  {
   "cell_type": "markdown",
   "metadata": {},
   "source": [
"## 2. 前処理\n"
,
"\n",
"前問で得られた特徴量について、一般的な正規化を行え。\n",
"\n"
   ]
  }
,
  {
   "cell_type": "markdown",
   "metadata": {},
   "source": [
"### 回答\n"

   ]
  }
,
  {
   "cell_type": "code",
   "execution_count": null,
   "metadata": {
    "vscode": {
     "languageId": "plaintext"
    }
   },
   "outputs": [],
   "source": []
  }
,
  {
   "cell_type": "markdown",
   "metadata": {},
   "source": [
"## 3. 線形モデル\n"
,
"\n",
"ロジスティック回帰と**訓練データ**を用いて、前問で得られた特徴量を入力すると、エントリ中のクエリと製品が適合であるか不適であるかを分類するモデルを訓練せよ。\n",
"ただし `esci_label` が `I` **ではない**エントリを適合とする。\n",
"\n"
   ]
  }
,
  {
   "cell_type": "markdown",
   "metadata": {},
   "source": [
"### 回答\n"

   ]
  }
,
  {
   "cell_type": "code",
   "execution_count": null,
   "metadata": {
    "vscode": {
     "languageId": "plaintext"
    }
   },
   "outputs": [],
   "source": []
  }
,
  {
   "cell_type": "markdown",
   "metadata": {},
   "source": [
"## 4. ランキングモデルの評価\n"
,
"\n",
"前問で訓練したモデルと**テストデータ**を用いて、`query_id` ごとにモデルの出力の順にエントリをランキングせよ。\n",
"ただし、適合が上位、不適が下位とする。\n",
"\n",
"`3.4`, `3.5` を参照して、nDCG@10の平均値を示せ。\n",
"以下、モデルを訓練したときは同様に評価を行え。\n",
"\n"
   ]
  }
,
  {
   "cell_type": "markdown",
   "metadata": {},
   "source": [
"### 回答\n"

   ]
  }
,
  {
   "cell_type": "code",
   "execution_count": null,
   "metadata": {
    "vscode": {
     "languageId": "plaintext"
    }
   },
   "outputs": [],
   "source": []
  }
,
  {
   "cell_type": "markdown",
   "metadata": {},
   "source": [
"## 5. 決定木\n"
,
"\n",
"XGBoostと訓練データを用いて、`2.` で得られた特徴量を入力すると優先度を出力するモデルを訓練せよ。\n",
"ただし、真の優先度は `esci_label` が `E`, `S`, `C`, `I` の順で高いものとし、絶対値はドントケアとする（例えばペアワイズ学習を行う）。\n",
"\n",
"> ヒント：いわゆるlearning to rankを行いたいので、エントリを `query_id` でグループ化し、目的関数に `rank` を指定せよ。\n",
"\n"
   ]
  }
,
  {
   "cell_type": "markdown",
   "metadata": {},
   "source": [
"### 回答\n"

   ]
  }
,
  {
   "cell_type": "code",
   "execution_count": null,
   "metadata": {
    "vscode": {
     "languageId": "plaintext"
    }
   },
   "outputs": [],
   "source": []
  }
,
  {
   "cell_type": "markdown",
   "metadata": {},
   "source": [
"## 6. バリデーションデータと学習率\n"
,
"\n",
"訓練データから適当な比率でバリデーションデータを取り分けよ。\n",
"\n",
"前問においてXGBoostにバリデーションデータも入力し、バリデーションデータを用いた評価が上がりきったところで、ちょうど訓練が終了するように学習率をチューニングせよ。\n",
"\n"
   ]
  }
,
  {
   "cell_type": "markdown",
   "metadata": {},
   "source": [
"### 回答\n"

   ]
  }
,
  {
   "cell_type": "code",
   "execution_count": null,
   "metadata": {
    "vscode": {
     "languageId": "plaintext"
    }
   },
   "outputs": [],
   "source": []
  }
,
  {
   "cell_type": "markdown",
   "metadata": {},
   "source": [
"## 7. 特徴選択\n"
,
"\n",
"`5.` または `6.` の問題設定において、XGBoostの機能でfeature importanceを確認せよ。\n",
"また、feature importanceの上位10個の特徴量のみを用いて同じ問題を解け。\n",
"\n"
   ]
  }
,
  {
   "cell_type": "markdown",
   "metadata": {},
   "source": [
"### 回答\n"

   ]
  }
,
  {
   "cell_type": "code",
   "execution_count": null,
   "metadata": {
    "vscode": {
     "languageId": "plaintext"
    }
   },
   "outputs": [],
   "source": []
  }
,
  {
   "cell_type": "markdown",
   "metadata": {},
   "source": [
"## 8. BERT\n"
,
"\n",
"ロジスティック回帰の代わりにBERTを用いて `3.` を行え。\n",
"ただし入力は特徴量ではなく、`query` と `product_title` そのものを、スペースでトークンに区切って与えよ。\n",
"\n"
   ]
  }
,
  {
   "cell_type": "markdown",
   "metadata": {},
   "source": [
"### 回答\n"

   ]
  }
,
  {
   "cell_type": "code",
   "execution_count": null,
   "metadata": {
    "vscode": {
     "languageId": "plaintext"
    }
   },
   "outputs": [],
   "source": []
  }
,
  {
   "cell_type": "markdown",
   "metadata": {},
   "source": [
"## 9. Siamese BERT\n"
,
"\n",
"`query` を受け取ってから `query` と全ての `product_title` をBERTに入力すると、検索エンジンとしては実用的な時間で動作しないと考えられる。\n",
"そこで、siamese BERTを用いて前問を解け。\n"
   ]
  }
,
  {
   "cell_type": "markdown",
   "metadata": {},
   "source": [
"### 回答\n"

   ]
  }
,
  {
   "cell_type": "code",
   "execution_count": null,
   "metadata": {
    "vscode": {
     "languageId": "plaintext"
    }
   },
   "outputs": [],
   "source": []
  }

 ],
 "metadata": {
  "kernelspec": {
   "display_name": ".venv",
   "language": "python",
   "name": "python3"
  },
  "language_info": {
   "codemirror_mode": {
    "name": "ipython",
    "version": 3
   },
   "file_extension": ".py",
   "mimetype": "text/x-python",
   "name": "python",
   "nbconvert_exporter": "python",
   "pygments_lexer": "ipython3",
   "version": "3.11.4"
  },
  "orig_nbformat": 4
 },
 "nbformat": 4,
 "nbformat_minor": 2
}

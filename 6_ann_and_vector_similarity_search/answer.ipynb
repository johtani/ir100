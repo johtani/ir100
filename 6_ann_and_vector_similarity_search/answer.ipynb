
{
 "cells": [

  {
   "cell_type": "markdown",
   "metadata": {},
   "source": [
"# 6. 近似最近傍探索とベクトル類似検索\n",
"\n"
   ]
  }
,
  {
   "cell_type": "markdown",
   "metadata": {},
   "source": [
"### 回答\n"

   ]
  }
,
  {
   "cell_type": "code",
   "execution_count": null,
   "metadata": {
    "vscode": {
     "languageId": "plaintext"
    }
   },
   "outputs": [],
   "source": []
  }
,
  {
   "cell_type": "markdown",
   "metadata": {},
   "source": [
"## 0. 準備\n"
,
"\n",
"以下のエンコーダのexample useを実行できるように環境を整えよ。\n",
"\n",
"> https://tfhub.dev/google/universal-sentence-encoder/4\n",
"\n"
   ]
  }
,
  {
   "cell_type": "markdown",
   "metadata": {},
   "source": [
"### 回答\n"

   ]
  }
,
  {
   "cell_type": "code",
   "execution_count": null,
   "metadata": {
    "vscode": {
     "languageId": "plaintext"
    }
   },
   "outputs": [],
   "source": []
  }
,
  {
   "cell_type": "markdown",
   "metadata": {},
   "source": [
"## 1. ベクトル化\n"
,
"\n",
"題材のエンコーダを実行して適当なクエリをベクトル化せよ。\n",
"\n"
   ]
  }
,
  {
   "cell_type": "markdown",
   "metadata": {},
   "source": [
"### 回答\n"

   ]
  }
,
  {
   "cell_type": "code",
   "execution_count": null,
   "metadata": {
    "vscode": {
     "languageId": "plaintext"
    }
   },
   "outputs": [],
   "source": []
  }
,
  {
   "cell_type": "markdown",
   "metadata": {},
   "source": [
"## 2. ドット積\n"
,
"\n",
"題材の製品ごとに、その `product_title` をベクトル化せよ。\n",
"同時に適当なクエリベクトルとの**ドット積**を計算し、それを優先度として上位10件の優先度と `product_title` を表示せよ。\n",
"\n",
"ただし、この処理は非常に重いので、英語製品データを適度にサンプリングして行ってもよい。\n",
"その場合は、比較のため以降の問題でも同じサンプルを用いること。\n",
"\n"
   ]
  }
,
  {
   "cell_type": "markdown",
   "metadata": {},
   "source": [
"### 回答\n"

   ]
  }
,
  {
   "cell_type": "code",
   "execution_count": null,
   "metadata": {
    "vscode": {
     "languageId": "plaintext"
    }
   },
   "outputs": [],
   "source": []
  }
,
  {
   "cell_type": "markdown",
   "metadata": {},
   "source": [
"## 3. ANNライブラリ\n"
,
"\n",
"総当たりのベクトル演算は非常に重いので、**近似最近傍探索** (**ANN**) を行う。\n",
"適当なANNライブラリを入手し、その機能で `2.` を行え。\n",
"ただし多くのANNライブラリはドット積の降順に対応していないので、例えばコサイン類似度の降順またはユークリッド距離の昇順にしてみよ。\n",
"\n"
   ]
  }
,
  {
   "cell_type": "markdown",
   "metadata": {},
   "source": [
"### 回答\n"

   ]
  }
,
  {
   "cell_type": "code",
   "execution_count": null,
   "metadata": {
    "vscode": {
     "languageId": "plaintext"
    }
   },
   "outputs": [],
   "source": []
  }
,
  {
   "cell_type": "markdown",
   "metadata": {},
   "source": [
"## 4. 代表点\n"
,
"\n",
"続いて、転置インデックスとの相性が良いクラスタベースの近似最近傍探索を実装する。\n",
"\n",
"まず、製品ベクトルをランダムにサンプリングし、それらにANNライブラリを利用してインデックスを張れ。\n",
"サンプル数は製品数の平方根とする。\n",
"\n",
"以降、これらのサンプルを**代表点**と呼び、通し番号を振って区別する。\n",
"\n"
   ]
  }
,
  {
   "cell_type": "markdown",
   "metadata": {},
   "source": [
"### 回答\n"

   ]
  }
,
  {
   "cell_type": "code",
   "execution_count": null,
   "metadata": {
    "vscode": {
     "languageId": "plaintext"
    }
   },
   "outputs": [],
   "source": []
  }
,
  {
   "cell_type": "markdown",
   "metadata": {},
   "source": [
"## 5. インデックス時の引き当て\n"
,
"\n",
"製品ベクトルごとに代表点を1つ引き当て、その通し番号を付与せよ。\n",
"\n"
   ]
  }
,
  {
   "cell_type": "markdown",
   "metadata": {},
   "source": [
"### 回答\n"

   ]
  }
,
  {
   "cell_type": "code",
   "execution_count": null,
   "metadata": {
    "vscode": {
     "languageId": "plaintext"
    }
   },
   "outputs": [],
   "source": []
  }
,
  {
   "cell_type": "markdown",
   "metadata": {},
   "source": [
"## 6. クエリ時の引き当て\n"
,
"\n",
"適当なクエリベクトルで代表点を1つ引き当てよ。\n",
"続いて、そのクエリベクトルと代表点（の通し番号）を共有する製品ベクトル群についてのみドット積を計算し、それを優先度として上位10件の優先度と元の製品の `product_title` を表示せよ。\n",
"\n"
   ]
  }
,
  {
   "cell_type": "markdown",
   "metadata": {},
   "source": [
"### 回答\n"

   ]
  }
,
  {
   "cell_type": "code",
   "execution_count": null,
   "metadata": {
    "vscode": {
     "languageId": "plaintext"
    }
   },
   "outputs": [],
   "source": []
  }
,
  {
   "cell_type": "markdown",
   "metadata": {},
   "source": [
"## 7. 近似の精度の評価\n"
,
"\n",
"以上でクラスタベースの近似最近傍探索が可能になった。\n",
"いくつかのクエリについて `2.` と `6.` の結果を比較せよ。\n",
"また、`2.` の結果に含まれる製品のうち、`6.` の結果にも含まれるものの割合を表示せよ。\n",
"\n"
   ]
  }
,
  {
   "cell_type": "markdown",
   "metadata": {},
   "source": [
"### 回答\n"

   ]
  }
,
  {
   "cell_type": "code",
   "execution_count": null,
   "metadata": {
    "vscode": {
     "languageId": "plaintext"
    }
   },
   "outputs": [],
   "source": []
  }
,
  {
   "cell_type": "markdown",
   "metadata": {},
   "source": [
"## 8. パラメータチューニング\n"
,
"\n",
"ここで実装したクラスタベースの近似最近傍探索には、以下の通り多くのパラメータがあった。\n",
"\n",
"- 用意する代表点の数\n",
"- 製品に対して引き当てる代表点の数\n",
"- クエリに対して引き当てる代表点の数\n",
"\n",
"これらを何通りかチューニングし、その都度 `4.` から `7.` を行え。\n",
"ただし `6.` において評価値と実行時間のトレードオフがあると考えられるので、このとき実行時間も測定せよ。\n",
"\n"
   ]
  }
,
  {
   "cell_type": "markdown",
   "metadata": {},
   "source": [
"### 回答\n"

   ]
  }
,
  {
   "cell_type": "code",
   "execution_count": null,
   "metadata": {
    "vscode": {
     "languageId": "plaintext"
    }
   },
   "outputs": [],
   "source": []
  }
,
  {
   "cell_type": "markdown",
   "metadata": {},
   "source": [
"## 9. クラスタリング\n"
,
"\n",
"より適切な代表点の選び方もあると考えられる。\n",
"題材の製品をクラスタリングし、各クラスタの平均ベクトルを代表点として `5.` から `7.` を行え。\n"
   ]
  }
,
  {
   "cell_type": "markdown",
   "metadata": {},
   "source": [
"### 回答\n"

   ]
  }
,
  {
   "cell_type": "code",
   "execution_count": null,
   "metadata": {
    "vscode": {
     "languageId": "plaintext"
    }
   },
   "outputs": [],
   "source": []
  }

 ],
 "metadata": {
  "kernelspec": {
   "display_name": ".venv",
   "language": "python",
   "name": "python3"
  },
  "language_info": {
   "codemirror_mode": {
    "name": "ipython",
    "version": 3
   },
   "file_extension": ".py",
   "mimetype": "text/x-python",
   "name": "python",
   "nbconvert_exporter": "python",
   "pygments_lexer": "ipython3",
   "version": "3.11.4"
  },
  "orig_nbformat": 4
 },
 "nbformat": 4,
 "nbformat_minor": 2
}

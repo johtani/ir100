
{
 "cells": [

  {
   "cell_type": "markdown",
   "metadata": {},
   "source": [
"# 2. ランキング\n",
"\n",
"（想定実行時間：それぞれ1分以内）\n",
"\n"
   ]
  }
,
  {
   "cell_type": "markdown",
   "metadata": {},
   "source": [
"### 回答\n"

   ]
  }
,
  {
   "cell_type": "code",
   "execution_count": null,
   "metadata": {
    "vscode": {
     "languageId": "plaintext"
    }
   },
   "outputs": [],
   "source": []
  }
,
  {
   "cell_type": "markdown",
   "metadata": {},
   "source": [
"## 0. 準備\n"
,
"\n",
"転置インデックスを拡張する。`product_title` フィールドに関して、`product_id` ごとに単語の出現回数も保存するようにせよ。\n",
"\n"
   ]
  }
,
  {
   "cell_type": "markdown",
   "metadata": {},
   "source": [
"### 回答\n"

   ]
  }
,
  {
   "cell_type": "code",
   "execution_count": null,
   "metadata": {
    "vscode": {
     "languageId": "plaintext"
    }
   },
   "outputs": [],
   "source": []
  }
,
  {
   "cell_type": "markdown",
   "metadata": {},
   "source": [
"## 1. 優先度つきキュー\n"
,
"\n",
"サイズ10の優先度つきキューを用意せよ。\n",
"\n"
   ]
  }
,
  {
   "cell_type": "markdown",
   "metadata": {},
   "source": [
"### 回答\n"

   ]
  }
,
  {
   "cell_type": "code",
   "execution_count": null,
   "metadata": {
    "vscode": {
     "languageId": "plaintext"
    }
   },
   "outputs": [],
   "source": []
  }
,
  {
   "cell_type": "markdown",
   "metadata": {},
   "source": [
"## 2. イテレータ\n"
,
"\n",
"2つのポスティングリストを与えると、少なくとも片方に含まれる製品について、その `product_id` とそれぞれの単語の出現回数を返すイテレータを実装せよ。\n",
"\n"
   ]
  }
,
  {
   "cell_type": "markdown",
   "metadata": {},
   "source": [
"### 回答\n"

   ]
  }
,
  {
   "cell_type": "code",
   "execution_count": null,
   "metadata": {
    "vscode": {
     "languageId": "plaintext"
    }
   },
   "outputs": [],
   "source": []
  }
,
  {
   "cell_type": "markdown",
   "metadata": {},
   "source": [
"## 3. TF\n"
,
"\n",
"転置インデックスとイテレータを用いて、2単語 `HDMI` と `Cable` の少なくとも片方を `product_title` に含む製品について、それらの出現回数 (**TF**) の和を優先度として `product_id` をキューせよ。\n",
"\n",
"続いて、キューに残った製品の `product_id` と `product_title` を優先度順に表示せよ。\n",
"また、このとき優先度も表示し、優先度の計算が正しいことを目視で確かめよ。\n",
"ただし、単語はスペースで区切られているものとしているので、例えば `Cable,` は計算に含まれないことに注意せよ。\n",
"\n"
   ]
  }
,
  {
   "cell_type": "markdown",
   "metadata": {},
   "source": [
"### 回答\n"

   ]
  }
,
  {
   "cell_type": "code",
   "execution_count": null,
   "metadata": {
    "vscode": {
     "languageId": "plaintext"
    }
   },
   "outputs": [],
   "source": []
  }
,
  {
   "cell_type": "markdown",
   "metadata": {},
   "source": [
"## 4. TFIDF\n"
,
"\n",
"`3.` では出現回数の和を優先度としたのに対して、ここではまず両単語についてそれぞれ出現回数と**IDF**の積 (**TFIDF**) を求め、その和を優先度として同じことを行え。\n",
"IDFの定義は複数あるが、この後の設問で再利用するため、BM25の定義の一部を構成するものを利用せよ。\n",
"この変更により、`HDMI` に関する製品も表示されやすくなったことを確かめよ。\n",
"\n"
   ]
  }
,
  {
   "cell_type": "markdown",
   "metadata": {},
   "source": [
"### 回答\n"

   ]
  }
,
  {
   "cell_type": "code",
   "execution_count": null,
   "metadata": {
    "vscode": {
     "languageId": "plaintext"
    }
   },
   "outputs": [],
   "source": []
  }
,
  {
   "cell_type": "markdown",
   "metadata": {},
   "source": [
"## 5. フィールド長\n"
,
"\n",
"転置インデックスはフィールドごと単語ごと製品ごとの情報を保存するデータ構造であった。\n",
"一般には、これに加えて、フィールドごと製品ごとの（単語に依存しない）情報を保存するデータ構造も必要である。\n",
"以下の連想配列を構築せよ。\n",
"\n",
"- キー：`product_id`\n",
"- 値：その製品の `product_title` の延べ単語数（**フィールド長**）\n",
"\n",
"また、このフィールド長の平均を求めよ。\n",
"\n"
   ]
  }
,
  {
   "cell_type": "markdown",
   "metadata": {},
   "source": [
"### 回答\n"

   ]
  }
,
  {
   "cell_type": "code",
   "execution_count": null,
   "metadata": {
    "vscode": {
     "languageId": "plaintext"
    }
   },
   "outputs": [],
   "source": []
  }
,
  {
   "cell_type": "markdown",
   "metadata": {},
   "source": [
"## 6. BM25\n"
,
"\n",
"**BM25**を優先度として `4.` と同じことを行え。\n",
"一般的なパラメータの値を調べ設定せよ。\n",
"この変更により、`product_title` が短い製品も表示されやすくなったことを確かめよ。\n",
"\n"
   ]
  }
,
  {
   "cell_type": "markdown",
   "metadata": {},
   "source": [
"### 回答\n"

   ]
  }
,
  {
   "cell_type": "code",
   "execution_count": null,
   "metadata": {
    "vscode": {
     "languageId": "plaintext"
    }
   },
   "outputs": [],
   "source": []
  }
,
  {
   "cell_type": "markdown",
   "metadata": {},
   "source": [
"## 7. BM25F\n"
,
"\n",
"**BM25F**を優先度として `6.` と同じことを行え。\n",
"このとき、`product_brand` の `Amazon Basics` との完全一致を優先度の計算に含めよ。\n",
"ポスティングリストの走査には含めなくてよい。\n",
"\n",
"このとき、フィールドの重みは `product_title` が `product_brand` の2倍とせよ。\n",
"また、完全一致をみる場合、`b` パラメータの値や（平均）フィールド長をどのように扱うべきかは考案して実装せよ。\n",
"\n"
   ]
  }
,
  {
   "cell_type": "markdown",
   "metadata": {},
   "source": [
"### 回答\n"

   ]
  }
,
  {
   "cell_type": "code",
   "execution_count": null,
   "metadata": {
    "vscode": {
     "languageId": "plaintext"
    }
   },
   "outputs": [],
   "source": []
  }
,
  {
   "cell_type": "markdown",
   "metadata": {},
   "source": [
"## 8. パラメータチューニング\n"
,
"\n",
"`7.` の問題設定において、パラメータの意味を調べ、値を変更して、`product_brand` が `Amazon Basics` である製品と、それ以外の製品が適度に混ざるようにせよ。\n"
   ]
  }
,
  {
   "cell_type": "markdown",
   "metadata": {},
   "source": [
"### 回答\n"

   ]
  }
,
  {
   "cell_type": "code",
   "execution_count": null,
   "metadata": {
    "vscode": {
     "languageId": "plaintext"
    }
   },
   "outputs": [],
   "source": []
  }

 ],
 "metadata": {
  "kernelspec": {
   "display_name": ".venv",
   "language": "python",
   "name": "python3"
  },
  "language_info": {
   "codemirror_mode": {
    "name": "ipython",
    "version": 3
   },
   "file_extension": ".py",
   "mimetype": "text/x-python",
   "name": "python",
   "nbconvert_exporter": "python",
   "pygments_lexer": "ipython3",
   "version": "3.11.4"
  },
  "orig_nbformat": 4
 },
 "nbformat": 4,
 "nbformat_minor": 2
}

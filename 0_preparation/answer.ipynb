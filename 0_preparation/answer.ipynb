{
 "cells": [
  {
   "cell_type": "markdown",
   "metadata": {},
   "source": [
    "# 0. 準備\n",
    "\n",
    "## 0. 準備の準備\n",
    "\n",
    "本ハンズオンで利用するデータセットの一部はGit LFSを介して提供されている。\n",
    "Git LFSをインストールせよ。\n"
   ]
  },
  {
   "cell_type": "markdown",
   "metadata": {},
   "source": [
    "### 回答\n",
    "\n",
    "Dev Containerを利用し、Dockerのイメージをビルドするタイミングで`sudo apt install git-lfs -y`コマンドでインストールするようにした。\n",
    "参考：[.devcontainer/postCreateCommand.sh](../.devcontainer/postCreateCommand.sh)\n"
   ]
  },
  {
   "cell_type": "markdown",
   "metadata": {},
   "source": [
    "## 1. データセットの入手\n",
    "\n",
    "本ハンズオンではAmazonのShopping Queries Datasetを利用する。\n",
    "以下から `git clone` せよ。\n",
    "\n",
    "https://github.com/amazon-science/esci-data\n"
   ]
  },
  {
   "cell_type": "markdown",
   "metadata": {},
   "source": [
    "### 回答\n",
    "\n",
    "リポジトリ直下（ir100ディレクトリ）で以下のコマンドを実行。DockerのVolumeとしてマウントしてあるので、ホスト側のディレクトリにはデータは存在しない。\n"
   ]
  },
  {
   "cell_type": "code",
   "execution_count": 1,
   "metadata": {},
   "outputs": [
    {
     "name": "stdout",
     "output_type": "stream",
     "text": [
      "fatal: destination path '../esci-data' already exists and is not an empty directory.\n"
     ]
    }
   ],
   "source": [
    "!git clone https://github.com/amazon-science/esci-data ../esci-data"
   ]
  },
  {
   "cell_type": "markdown",
   "metadata": {},
   "source": [
    "## 2. ライブラリの入手\n",
    "\n",
    "このデータセットの一部はParquet形式である。\n",
    "Parquet形式のファイルを読み込むためのライブラリを入手せよ。\n"
   ]
  },
  {
   "cell_type": "markdown",
   "metadata": {},
   "source": [
    "### 回答\n",
    "\n",
    "Poetryをパッケージマネージャーとして利用するので、以下のコマンドで追加。\n"
   ]
  },
  {
   "cell_type": "code",
   "execution_count": 2,
   "metadata": {},
   "outputs": [
    {
     "name": "stdout",
     "output_type": "stream",
     "text": [
      "The following packages are already present in the pyproject.toml and will be skipped:\n",
      "\n",
      "  • \u001b[36mpandas\u001b[39m\n",
      "  • \u001b[36mdatasets\u001b[39m\n",
      "\n",
      "If you want to update it to the latest compatible version, you can use `poetry update package`.\n",
      "If you prefer to upgrade it to the latest available version, you can use `poetry add package@latest`.\n",
      "\n",
      "Nothing to add.\n"
     ]
    }
   ],
   "source": [
    "!poetry add pandas datasets"
   ]
  },
  {
   "cell_type": "markdown",
   "metadata": {},
   "source": [
    "## 3. 製品データの読み込み\n",
    "\n",
    "ライブラリの機能で製品データ（以下）をメモリに読み込め。\n",
    "\n",
    "```\n",
    "./esci-data/shopping_queries_dataset/shopping_queries_dataset_products.parquet\n",
    "```\n",
    "\n",
    "（想定実行時間：1分以内）\n",
    "\n"
   ]
  },
  {
   "cell_type": "markdown",
   "metadata": {},
   "source": [
    "### 回答\n"
   ]
  },
  {
   "cell_type": "code",
   "execution_count": 3,
   "metadata": {},
   "outputs": [
    {
     "name": "stdout",
     "output_type": "stream",
     "text": [
      "Start loading products...\n",
      "Loaded products.\n"
     ]
    }
   ],
   "source": [
    "\n",
    "import pandas as pd\n",
    "import pathlib\n",
    "\n",
    "esci_path = pathlib.Path(\"../esci-data/shopping_queries_dataset\")\n",
    "print(\"Start loading products...\")\n",
    "df_products = pd.read_parquet(esci_path.joinpath(\"shopping_queries_dataset_products.parquet\"))\n",
    "print(\"Loaded products.\")"
   ]
  },
  {
   "cell_type": "markdown",
   "metadata": {},
   "source": [
    "## 4. 製品データの確認\n",
    "\n",
    "製品を1つランダムに取り出し表示せよ。\n",
    "何度か実行せよ。\n"
   ]
  },
  {
   "cell_type": "markdown",
   "metadata": {},
   "source": [
    "### 回答\n",
    "\n"
   ]
  },
  {
   "cell_type": "code",
   "execution_count": 4,
   "metadata": {},
   "outputs": [
    {
     "data": {
      "text/html": [
       "<div>\n",
       "<style scoped>\n",
       "    .dataframe tbody tr th:only-of-type {\n",
       "        vertical-align: middle;\n",
       "    }\n",
       "\n",
       "    .dataframe tbody tr th {\n",
       "        vertical-align: top;\n",
       "    }\n",
       "\n",
       "    .dataframe thead th {\n",
       "        text-align: right;\n",
       "    }\n",
       "</style>\n",
       "<table border=\"1\" class=\"dataframe\">\n",
       "  <thead>\n",
       "    <tr style=\"text-align: right;\">\n",
       "      <th></th>\n",
       "      <th>product_id</th>\n",
       "      <th>product_title</th>\n",
       "      <th>product_description</th>\n",
       "      <th>product_bullet_point</th>\n",
       "      <th>product_brand</th>\n",
       "      <th>product_color</th>\n",
       "      <th>product_locale</th>\n",
       "    </tr>\n",
       "  </thead>\n",
       "  <tbody>\n",
       "    <tr>\n",
       "      <th>1728954</th>\n",
       "      <td>B09F95G7RN</td>\n",
       "      <td>Without You (8-Bit Miley Cyrus &amp; The Kid Laroi...</td>\n",
       "      <td>None</td>\n",
       "      <td>None</td>\n",
       "      <td>None</td>\n",
       "      <td>None</td>\n",
       "      <td>us</td>\n",
       "    </tr>\n",
       "  </tbody>\n",
       "</table>\n",
       "</div>"
      ],
      "text/plain": [
       "         product_id                                      product_title  \\\n",
       "1728954  B09F95G7RN  Without You (8-Bit Miley Cyrus & The Kid Laroi...   \n",
       "\n",
       "        product_description product_bullet_point product_brand product_color  \\\n",
       "1728954                None                 None          None          None   \n",
       "\n",
       "        product_locale  \n",
       "1728954             us  "
      ]
     },
     "execution_count": 4,
     "metadata": {},
     "output_type": "execute_result"
    }
   ],
   "source": [
    "df_products.sample()"
   ]
  },
  {
   "cell_type": "code",
   "execution_count": 5,
   "metadata": {},
   "outputs": [
    {
     "data": {
      "text/html": [
       "<div>\n",
       "<style scoped>\n",
       "    .dataframe tbody tr th:only-of-type {\n",
       "        vertical-align: middle;\n",
       "    }\n",
       "\n",
       "    .dataframe tbody tr th {\n",
       "        vertical-align: top;\n",
       "    }\n",
       "\n",
       "    .dataframe thead th {\n",
       "        text-align: right;\n",
       "    }\n",
       "</style>\n",
       "<table border=\"1\" class=\"dataframe\">\n",
       "  <thead>\n",
       "    <tr style=\"text-align: right;\">\n",
       "      <th></th>\n",
       "      <th>product_id</th>\n",
       "      <th>product_title</th>\n",
       "      <th>product_description</th>\n",
       "      <th>product_bullet_point</th>\n",
       "      <th>product_brand</th>\n",
       "      <th>product_color</th>\n",
       "      <th>product_locale</th>\n",
       "    </tr>\n",
       "  </thead>\n",
       "  <tbody>\n",
       "    <tr>\n",
       "      <th>1057506</th>\n",
       "      <td>B009HOPXD4</td>\n",
       "      <td>日本電興(NIHON DENKO) 電磁式エアーポンプ 30L NIP-30L ホワイト</td>\n",
       "      <td>None</td>\n",
       "      <td>定格電圧:100V(50/60Hz)\\n消費電力:33W\\n定格圧力:0.012MPA(0....</td>\n",
       "      <td>日本電興</td>\n",
       "      <td>ホワイト</td>\n",
       "      <td>jp</td>\n",
       "    </tr>\n",
       "  </tbody>\n",
       "</table>\n",
       "</div>"
      ],
      "text/plain": [
       "         product_id                                 product_title  \\\n",
       "1057506  B009HOPXD4  日本電興(NIHON DENKO) 電磁式エアーポンプ 30L NIP-30L ホワイト   \n",
       "\n",
       "        product_description  \\\n",
       "1057506                None   \n",
       "\n",
       "                                      product_bullet_point product_brand  \\\n",
       "1057506  定格電圧:100V(50/60Hz)\\n消費電力:33W\\n定格圧力:0.012MPA(0....          日本電興   \n",
       "\n",
       "        product_color product_locale  \n",
       "1057506          ホワイト             jp  "
      ]
     },
     "execution_count": 5,
     "metadata": {},
     "output_type": "execute_result"
    }
   ],
   "source": [
    "\n",
    "df_products.sample()"
   ]
  },
  {
   "cell_type": "code",
   "execution_count": 6,
   "metadata": {},
   "outputs": [
    {
     "data": {
      "text/html": [
       "<div>\n",
       "<style scoped>\n",
       "    .dataframe tbody tr th:only-of-type {\n",
       "        vertical-align: middle;\n",
       "    }\n",
       "\n",
       "    .dataframe tbody tr th {\n",
       "        vertical-align: top;\n",
       "    }\n",
       "\n",
       "    .dataframe thead th {\n",
       "        text-align: right;\n",
       "    }\n",
       "</style>\n",
       "<table border=\"1\" class=\"dataframe\">\n",
       "  <thead>\n",
       "    <tr style=\"text-align: right;\">\n",
       "      <th></th>\n",
       "      <th>product_id</th>\n",
       "      <th>product_title</th>\n",
       "      <th>product_description</th>\n",
       "      <th>product_bullet_point</th>\n",
       "      <th>product_brand</th>\n",
       "      <th>product_color</th>\n",
       "      <th>product_locale</th>\n",
       "    </tr>\n",
       "  </thead>\n",
       "  <tbody>\n",
       "    <tr>\n",
       "      <th>1707016</th>\n",
       "      <td>B07T24GKWC</td>\n",
       "      <td>Sorbus Planter Pots and Tray Caddy, 3 Buckets ...</td>\n",
       "      <td>Beautifully display small succulents with the ...</td>\n",
       "      <td>PLANTER POT CADDY SET — Beautifully display su...</td>\n",
       "      <td>Sorbus</td>\n",
       "      <td>Silver</td>\n",
       "      <td>us</td>\n",
       "    </tr>\n",
       "  </tbody>\n",
       "</table>\n",
       "</div>"
      ],
      "text/plain": [
       "         product_id                                      product_title  \\\n",
       "1707016  B07T24GKWC  Sorbus Planter Pots and Tray Caddy, 3 Buckets ...   \n",
       "\n",
       "                                       product_description  \\\n",
       "1707016  Beautifully display small succulents with the ...   \n",
       "\n",
       "                                      product_bullet_point product_brand  \\\n",
       "1707016  PLANTER POT CADDY SET — Beautifully display su...        Sorbus   \n",
       "\n",
       "        product_color product_locale  \n",
       "1707016        Silver             us  "
      ]
     },
     "execution_count": 6,
     "metadata": {},
     "output_type": "execute_result"
    }
   ],
   "source": [
    "\n",
    "df_products.sample()"
   ]
  },
  {
   "cell_type": "markdown",
   "metadata": {},
   "source": [
    "## 5. クエリデータの読み込み\n",
    "\n",
    "クエリデータ（以下）をメモリに読み込め。\n",
    "\n",
    "```\n",
    "./esci-data/shopping_queries_dataset/shopping_queries_dataset_examples.parquet\n",
    "```\n",
    "\n",
    "（想定実行時間：1分以内）\n",
    "\n"
   ]
  },
  {
   "cell_type": "markdown",
   "metadata": {},
   "source": [
    "### 回答\n",
    "\n",
    "\n"
   ]
  },
  {
   "cell_type": "code",
   "execution_count": 7,
   "metadata": {},
   "outputs": [
    {
     "name": "stdout",
     "output_type": "stream",
     "text": [
      "Start loading examples...\n",
      "Loaded examples.\n"
     ]
    }
   ],
   "source": [
    "print(\"Start loading examples...\")\n",
    "df_examples = pd.read_parquet(esci_path.joinpath(\"shopping_queries_dataset_examples.parquet\"))\n",
    "print(\"Loaded examples.\")"
   ]
  },
  {
   "cell_type": "markdown",
   "metadata": {},
   "source": [
    "## 6. クエリデータの確認\n",
    "\n",
    "クエリを1つランダムに取り出し表示せよ。\n",
    "何度か実行せよ。\n",
    "\n"
   ]
  },
  {
   "cell_type": "markdown",
   "metadata": {},
   "source": [
    "### 回答"
   ]
  },
  {
   "cell_type": "code",
   "execution_count": 8,
   "metadata": {},
   "outputs": [
    {
     "data": {
      "text/html": [
       "<div>\n",
       "<style scoped>\n",
       "    .dataframe tbody tr th:only-of-type {\n",
       "        vertical-align: middle;\n",
       "    }\n",
       "\n",
       "    .dataframe tbody tr th {\n",
       "        vertical-align: top;\n",
       "    }\n",
       "\n",
       "    .dataframe thead th {\n",
       "        text-align: right;\n",
       "    }\n",
       "</style>\n",
       "<table border=\"1\" class=\"dataframe\">\n",
       "  <thead>\n",
       "    <tr style=\"text-align: right;\">\n",
       "      <th></th>\n",
       "      <th>example_id</th>\n",
       "      <th>query</th>\n",
       "      <th>query_id</th>\n",
       "      <th>product_id</th>\n",
       "      <th>product_locale</th>\n",
       "      <th>esci_label</th>\n",
       "      <th>small_version</th>\n",
       "      <th>large_version</th>\n",
       "      <th>split</th>\n",
       "    </tr>\n",
       "  </thead>\n",
       "  <tbody>\n",
       "    <tr>\n",
       "      <th>587601</th>\n",
       "      <td>587601</td>\n",
       "      <td>cordones blancos sin nudo</td>\n",
       "      <td>29055</td>\n",
       "      <td>B078MF9X9J</td>\n",
       "      <td>es</td>\n",
       "      <td>E</td>\n",
       "      <td>1</td>\n",
       "      <td>1</td>\n",
       "      <td>train</td>\n",
       "    </tr>\n",
       "  </tbody>\n",
       "</table>\n",
       "</div>"
      ],
      "text/plain": [
       "        example_id                      query  query_id  product_id  \\\n",
       "587601      587601  cordones blancos sin nudo     29055  B078MF9X9J   \n",
       "\n",
       "       product_locale esci_label  small_version  large_version  split  \n",
       "587601             es          E              1              1  train  "
      ]
     },
     "execution_count": 8,
     "metadata": {},
     "output_type": "execute_result"
    }
   ],
   "source": [
    "df_examples.sample()"
   ]
  },
  {
   "cell_type": "code",
   "execution_count": 9,
   "metadata": {},
   "outputs": [
    {
     "data": {
      "text/html": [
       "<div>\n",
       "<style scoped>\n",
       "    .dataframe tbody tr th:only-of-type {\n",
       "        vertical-align: middle;\n",
       "    }\n",
       "\n",
       "    .dataframe tbody tr th {\n",
       "        vertical-align: top;\n",
       "    }\n",
       "\n",
       "    .dataframe thead th {\n",
       "        text-align: right;\n",
       "    }\n",
       "</style>\n",
       "<table border=\"1\" class=\"dataframe\">\n",
       "  <thead>\n",
       "    <tr style=\"text-align: right;\">\n",
       "      <th></th>\n",
       "      <th>example_id</th>\n",
       "      <th>query</th>\n",
       "      <th>query_id</th>\n",
       "      <th>product_id</th>\n",
       "      <th>product_locale</th>\n",
       "      <th>esci_label</th>\n",
       "      <th>small_version</th>\n",
       "      <th>large_version</th>\n",
       "      <th>split</th>\n",
       "    </tr>\n",
       "  </thead>\n",
       "  <tbody>\n",
       "    <tr>\n",
       "      <th>445435</th>\n",
       "      <td>445435</td>\n",
       "      <td>calmante de the body shop</td>\n",
       "      <td>21663</td>\n",
       "      <td>B07GSMQ4NL</td>\n",
       "      <td>es</td>\n",
       "      <td>C</td>\n",
       "      <td>1</td>\n",
       "      <td>1</td>\n",
       "      <td>test</td>\n",
       "    </tr>\n",
       "  </tbody>\n",
       "</table>\n",
       "</div>"
      ],
      "text/plain": [
       "        example_id                      query  query_id  product_id  \\\n",
       "445435      445435  calmante de the body shop     21663  B07GSMQ4NL   \n",
       "\n",
       "       product_locale esci_label  small_version  large_version split  \n",
       "445435             es          C              1              1  test  "
      ]
     },
     "execution_count": 9,
     "metadata": {},
     "output_type": "execute_result"
    }
   ],
   "source": [
    "df_examples.sample()"
   ]
  },
  {
   "cell_type": "code",
   "execution_count": 10,
   "metadata": {},
   "outputs": [
    {
     "data": {
      "text/html": [
       "<div>\n",
       "<style scoped>\n",
       "    .dataframe tbody tr th:only-of-type {\n",
       "        vertical-align: middle;\n",
       "    }\n",
       "\n",
       "    .dataframe tbody tr th {\n",
       "        vertical-align: top;\n",
       "    }\n",
       "\n",
       "    .dataframe thead th {\n",
       "        text-align: right;\n",
       "    }\n",
       "</style>\n",
       "<table border=\"1\" class=\"dataframe\">\n",
       "  <thead>\n",
       "    <tr style=\"text-align: right;\">\n",
       "      <th></th>\n",
       "      <th>example_id</th>\n",
       "      <th>query</th>\n",
       "      <th>query_id</th>\n",
       "      <th>product_id</th>\n",
       "      <th>product_locale</th>\n",
       "      <th>esci_label</th>\n",
       "      <th>small_version</th>\n",
       "      <th>large_version</th>\n",
       "      <th>split</th>\n",
       "    </tr>\n",
       "  </thead>\n",
       "  <tbody>\n",
       "    <tr>\n",
       "      <th>1022100</th>\n",
       "      <td>1022100</td>\n",
       "      <td>hover soccer ball indoor</td>\n",
       "      <td>51564</td>\n",
       "      <td>B07TW2FYNV</td>\n",
       "      <td>us</td>\n",
       "      <td>E</td>\n",
       "      <td>1</td>\n",
       "      <td>1</td>\n",
       "      <td>test</td>\n",
       "    </tr>\n",
       "  </tbody>\n",
       "</table>\n",
       "</div>"
      ],
      "text/plain": [
       "         example_id                     query  query_id  product_id  \\\n",
       "1022100     1022100  hover soccer ball indoor     51564  B07TW2FYNV   \n",
       "\n",
       "        product_locale esci_label  small_version  large_version split  \n",
       "1022100             us          E              1              1  test  "
      ]
     },
     "execution_count": 10,
     "metadata": {},
     "output_type": "execute_result"
    }
   ],
   "source": [
    "df_examples.sample()"
   ]
  },
  {
   "cell_type": "markdown",
   "metadata": {},
   "source": [
    "## 7. フィルタリング\n",
    "\n",
    "題材の製品データ、クエリデータそれぞれ `product_locale` が `us` であるものを抽出せよ。\n",
    "\n",
    "これ以降、特に断りがなければ、以下の理由からこれらのサブセットを用いる。\n",
    "\n",
    "- 単語がスペース区切りで扱いやすいため。\n",
    "- `product_locale` 内では `product_id` がユニークで扱いやすいため。\n",
    "\n",
    "また、それぞれ**英語製品データ**、**英語クエリデータ**と呼ぶ。\n"
   ]
  },
  {
   "cell_type": "markdown",
   "metadata": {},
   "source": [
    "### 回答\n"
   ]
  },
  {
   "cell_type": "code",
   "execution_count": 11,
   "metadata": {},
   "outputs": [],
   "source": [
    "df_products_us = df_products[df_products[\"product_locale\"] == \"us\"]\n",
    "df_examples_us = df_examples[df_examples[\"product_locale\"] == \"us\"]"
   ]
  },
  {
   "cell_type": "markdown",
   "metadata": {},
   "source": [
    "## 8. 結合\n",
    "\n",
    "英語製品データと英語クエリデータを、`product_id` をキーとして結合せよ。\n",
    "これを**英語結合データ**と呼ぶ。\n",
    "\n",
    "また、英語結合データのエントリを1つランダムに取り出し表示せよ。\n",
    "何度か実行せよ。\n"
   ]
  },
  {
   "cell_type": "markdown",
   "metadata": {},
   "source": [
    "### 回答\n"
   ]
  },
  {
   "cell_type": "code",
   "execution_count": 12,
   "metadata": {},
   "outputs": [
    {
     "data": {
      "text/html": [
       "<div>\n",
       "<style scoped>\n",
       "    .dataframe tbody tr th:only-of-type {\n",
       "        vertical-align: middle;\n",
       "    }\n",
       "\n",
       "    .dataframe tbody tr th {\n",
       "        vertical-align: top;\n",
       "    }\n",
       "\n",
       "    .dataframe thead th {\n",
       "        text-align: right;\n",
       "    }\n",
       "</style>\n",
       "<table border=\"1\" class=\"dataframe\">\n",
       "  <thead>\n",
       "    <tr style=\"text-align: right;\">\n",
       "      <th></th>\n",
       "      <th>example_id</th>\n",
       "      <th>query</th>\n",
       "      <th>query_id</th>\n",
       "      <th>product_id</th>\n",
       "      <th>product_locale_x</th>\n",
       "      <th>esci_label</th>\n",
       "      <th>small_version</th>\n",
       "      <th>large_version</th>\n",
       "      <th>split</th>\n",
       "      <th>product_title</th>\n",
       "      <th>product_description</th>\n",
       "      <th>product_bullet_point</th>\n",
       "      <th>product_brand</th>\n",
       "      <th>product_color</th>\n",
       "      <th>product_locale_y</th>\n",
       "    </tr>\n",
       "  </thead>\n",
       "  <tbody>\n",
       "    <tr>\n",
       "      <th>892314</th>\n",
       "      <td>1121667</td>\n",
       "      <td>juvenatur antiarrugas</td>\n",
       "      <td>56750</td>\n",
       "      <td>B00U2VQYWK</td>\n",
       "      <td>us</td>\n",
       "      <td>E</td>\n",
       "      <td>1</td>\n",
       "      <td>1</td>\n",
       "      <td>test</td>\n",
       "      <td>RoC Retinol Correxion Max Wrinkle Anti-Aging S...</td>\n",
       "      <td>None</td>\n",
       "      <td>HOLIDAY GIFT: Give the gift of self care and b...</td>\n",
       "      <td>RoC</td>\n",
       "      <td>White</td>\n",
       "      <td>us</td>\n",
       "    </tr>\n",
       "  </tbody>\n",
       "</table>\n",
       "</div>"
      ],
      "text/plain": [
       "        example_id                  query  query_id  product_id  \\\n",
       "892314     1121667  juvenatur antiarrugas     56750  B00U2VQYWK   \n",
       "\n",
       "       product_locale_x esci_label  small_version  large_version split  \\\n",
       "892314               us          E              1              1  test   \n",
       "\n",
       "                                            product_title product_description  \\\n",
       "892314  RoC Retinol Correxion Max Wrinkle Anti-Aging S...                None   \n",
       "\n",
       "                                     product_bullet_point product_brand  \\\n",
       "892314  HOLIDAY GIFT: Give the gift of self care and b...           RoC   \n",
       "\n",
       "       product_color product_locale_y  \n",
       "892314         White               us  "
      ]
     },
     "execution_count": 12,
     "metadata": {},
     "output_type": "execute_result"
    }
   ],
   "source": [
    "pd_examples_products_us = pd.merge(\n",
    "    df_examples_us,\n",
    "    df_products_us,\n",
    "    how='left',\n",
    "    left_on=['product_id'],\n",
    "    right_on=['product_id']\n",
    ")\n",
    "\n",
    "pd_examples_products_us.sample()\n"
   ]
  },
  {
   "cell_type": "code",
   "execution_count": 13,
   "metadata": {},
   "outputs": [
    {
     "data": {
      "text/html": [
       "<div>\n",
       "<style scoped>\n",
       "    .dataframe tbody tr th:only-of-type {\n",
       "        vertical-align: middle;\n",
       "    }\n",
       "\n",
       "    .dataframe tbody tr th {\n",
       "        vertical-align: top;\n",
       "    }\n",
       "\n",
       "    .dataframe thead th {\n",
       "        text-align: right;\n",
       "    }\n",
       "</style>\n",
       "<table border=\"1\" class=\"dataframe\">\n",
       "  <thead>\n",
       "    <tr style=\"text-align: right;\">\n",
       "      <th></th>\n",
       "      <th>example_id</th>\n",
       "      <th>query</th>\n",
       "      <th>query_id</th>\n",
       "      <th>product_id</th>\n",
       "      <th>product_locale_x</th>\n",
       "      <th>esci_label</th>\n",
       "      <th>small_version</th>\n",
       "      <th>large_version</th>\n",
       "      <th>split</th>\n",
       "      <th>product_title</th>\n",
       "      <th>product_description</th>\n",
       "      <th>product_bullet_point</th>\n",
       "      <th>product_brand</th>\n",
       "      <th>product_color</th>\n",
       "      <th>product_locale_y</th>\n",
       "    </tr>\n",
       "  </thead>\n",
       "  <tbody>\n",
       "    <tr>\n",
       "      <th>38618</th>\n",
       "      <td>45612</td>\n",
       "      <td>10x10x6 cake box without window</td>\n",
       "      <td>1635</td>\n",
       "      <td>B08G8XV4NH</td>\n",
       "      <td>us</td>\n",
       "      <td>I</td>\n",
       "      <td>1</td>\n",
       "      <td>1</td>\n",
       "      <td>test</td>\n",
       "      <td>[10 Pack of Each] 12 Inch Cake Boxes with Cake...</td>\n",
       "      <td>&lt;b&gt;You Can Have Your Cake And Eat It Too! Get ...</td>\n",
       "      <td>✅EASY TO ASSEMBLE: We have taken out the frust...</td>\n",
       "      <td>Dineton</td>\n",
       "      <td>None</td>\n",
       "      <td>us</td>\n",
       "    </tr>\n",
       "  </tbody>\n",
       "</table>\n",
       "</div>"
      ],
      "text/plain": [
       "       example_id                            query  query_id  product_id  \\\n",
       "38618       45612  10x10x6 cake box without window      1635  B08G8XV4NH   \n",
       "\n",
       "      product_locale_x esci_label  small_version  large_version split  \\\n",
       "38618               us          I              1              1  test   \n",
       "\n",
       "                                           product_title  \\\n",
       "38618  [10 Pack of Each] 12 Inch Cake Boxes with Cake...   \n",
       "\n",
       "                                     product_description  \\\n",
       "38618  <b>You Can Have Your Cake And Eat It Too! Get ...   \n",
       "\n",
       "                                    product_bullet_point product_brand  \\\n",
       "38618  ✅EASY TO ASSEMBLE: We have taken out the frust...       Dineton   \n",
       "\n",
       "      product_color product_locale_y  \n",
       "38618          None               us  "
      ]
     },
     "execution_count": 13,
     "metadata": {},
     "output_type": "execute_result"
    }
   ],
   "source": [
    "\n",
    "pd_examples_products_us.sample()"
   ]
  },
  {
   "cell_type": "code",
   "execution_count": 14,
   "metadata": {},
   "outputs": [
    {
     "data": {
      "text/html": [
       "<div>\n",
       "<style scoped>\n",
       "    .dataframe tbody tr th:only-of-type {\n",
       "        vertical-align: middle;\n",
       "    }\n",
       "\n",
       "    .dataframe tbody tr th {\n",
       "        vertical-align: top;\n",
       "    }\n",
       "\n",
       "    .dataframe thead th {\n",
       "        text-align: right;\n",
       "    }\n",
       "</style>\n",
       "<table border=\"1\" class=\"dataframe\">\n",
       "  <thead>\n",
       "    <tr style=\"text-align: right;\">\n",
       "      <th></th>\n",
       "      <th>example_id</th>\n",
       "      <th>query</th>\n",
       "      <th>query_id</th>\n",
       "      <th>product_id</th>\n",
       "      <th>product_locale_x</th>\n",
       "      <th>esci_label</th>\n",
       "      <th>small_version</th>\n",
       "      <th>large_version</th>\n",
       "      <th>split</th>\n",
       "      <th>product_title</th>\n",
       "      <th>product_description</th>\n",
       "      <th>product_bullet_point</th>\n",
       "      <th>product_brand</th>\n",
       "      <th>product_color</th>\n",
       "      <th>product_locale_y</th>\n",
       "    </tr>\n",
       "  </thead>\n",
       "  <tbody>\n",
       "    <tr>\n",
       "      <th>390185</th>\n",
       "      <td>504320</td>\n",
       "      <td>champion high tops</td>\n",
       "      <td>24694</td>\n",
       "      <td>B07LGB9L6G</td>\n",
       "      <td>us</td>\n",
       "      <td>E</td>\n",
       "      <td>1</td>\n",
       "      <td>1</td>\n",
       "      <td>train</td>\n",
       "      <td>Champion Kids Rally Hype Mid (Big Kid) Scarlet...</td>\n",
       "      <td>None</td>\n",
       "      <td>None</td>\n",
       "      <td>Champion</td>\n",
       "      <td>None</td>\n",
       "      <td>us</td>\n",
       "    </tr>\n",
       "  </tbody>\n",
       "</table>\n",
       "</div>"
      ],
      "text/plain": [
       "        example_id               query  query_id  product_id product_locale_x  \\\n",
       "390185      504320  champion high tops     24694  B07LGB9L6G               us   \n",
       "\n",
       "       esci_label  small_version  large_version  split  \\\n",
       "390185          E              1              1  train   \n",
       "\n",
       "                                            product_title product_description  \\\n",
       "390185  Champion Kids Rally Hype Mid (Big Kid) Scarlet...                None   \n",
       "\n",
       "       product_bullet_point product_brand product_color product_locale_y  \n",
       "390185                 None      Champion          None               us  "
      ]
     },
     "execution_count": 14,
     "metadata": {},
     "output_type": "execute_result"
    }
   ],
   "source": [
    "\n",
    "pd_examples_products_us.sample()"
   ]
  }
 ],
 "metadata": {
  "kernelspec": {
   "display_name": ".venv",
   "language": "python",
   "name": "python3"
  },
  "language_info": {
   "codemirror_mode": {
    "name": "ipython",
    "version": 3
   },
   "file_extension": ".py",
   "mimetype": "text/x-python",
   "name": "python",
   "nbconvert_exporter": "python",
   "pygments_lexer": "ipython3",
   "version": "3.11.4"
  },
  "orig_nbformat": 4
 },
 "nbformat": 4,
 "nbformat_minor": 2
}


{
 "cells": [

  {
   "cell_type": "markdown",
   "metadata": {},
   "source": [
"# 3. 定量評価と検定\n",
"\n"
   ]
  }
,
  {
   "cell_type": "markdown",
   "metadata": {},
   "source": [
"### 回答\n"

   ]
  }
,
  {
   "cell_type": "code",
   "execution_count": null,
   "metadata": {
    "vscode": {
     "languageId": "plaintext"
    }
   },
   "outputs": [],
   "source": []
  }
,
  {
   "cell_type": "markdown",
   "metadata": {},
   "source": [
"## 0. 準備\n"
,
"\n",
"英語結合データにおいてクエリは `query_id` で区別される。\n",
"`query_id` ごとに `product_id` を辞書順にソートすることで、**ベースライン**のランキングを行え。\n",
"\n"
   ]
  }
,
  {
   "cell_type": "markdown",
   "metadata": {},
   "source": [
"### 回答\n"

   ]
  }
,
  {
   "cell_type": "code",
   "execution_count": null,
   "metadata": {
    "vscode": {
     "languageId": "plaintext"
    }
   },
   "outputs": [],
   "source": []
  }
,
  {
   "cell_type": "markdown",
   "metadata": {},
   "source": [
"## 1. ランキング改善\n"
,
"\n",
"ベースラインのランキングには明らかに改善の余地がある。\n",
"`query` 中の単語が `product_description` 中に出現する回数の降順にソートすることで、**改善版**のランキングを行え。\n",
"ただし、単語はスペースで区切られているものとする。\n",
"\n"
   ]
  }
,
  {
   "cell_type": "markdown",
   "metadata": {},
   "source": [
"### 回答\n"

   ]
  }
,
  {
   "cell_type": "code",
   "execution_count": null,
   "metadata": {
    "vscode": {
     "languageId": "plaintext"
    }
   },
   "outputs": [],
   "source": []
  }
,
  {
   "cell_type": "markdown",
   "metadata": {},
   "source": [
"## 2. 適合率\n"
,
"\n",
"ベースラインと改善版のランキングそれぞれについて、10件適合率の平均値を示せ。\n",
"ただし、`esci_label` が `I` **ではない**製品を適合とする。\n",
"\n"
   ]
  }
,
  {
   "cell_type": "markdown",
   "metadata": {},
   "source": [
"### 回答\n"

   ]
  }
,
  {
   "cell_type": "code",
   "execution_count": null,
   "metadata": {
    "vscode": {
     "languageId": "plaintext"
    }
   },
   "outputs": [],
   "source": []
  }
,
  {
   "cell_type": "markdown",
   "metadata": {},
   "source": [
"## 3. MAP\n"
,
"\n",
"10件適合率は10件の中での順序を考慮していなかった。\n",
"ベースラインと改善版のランキングそれぞれについて、平均適合率 (average precision, AP) の平均値 (mean average precision, MAP) を示せ。\n",
"ただし、計算の対象はランキング上位10件までに**限らない**ことに注意せよ。\n",
"また、英語結合データ中に全ての適合な製品が含まれているものと仮定してよい（この仮定は単純化のために置いたもので、誤りである）。\n",
"\n"
   ]
  }
,
  {
   "cell_type": "markdown",
   "metadata": {},
   "source": [
"### 回答\n"

   ]
  }
,
  {
   "cell_type": "code",
   "execution_count": null,
   "metadata": {
    "vscode": {
     "languageId": "plaintext"
    }
   },
   "outputs": [],
   "source": []
  }
,
  {
   "cell_type": "markdown",
   "metadata": {},
   "source": [
"## 4. DCG\n"
,
"\n",
"英語結合データにおいては、製品に**適合度**があった。\n",
"ベースラインと改善版のランキングそれぞれについて、discounted cumulative gain (DCG) @10の平均値を示せ。\n",
"ただし、`esci_label` が `E`, `S`, `C`, `I` の製品のgainをそれぞれ `4`, `2`, `1`, `0` とする。\n",
"\n"
   ]
  }
,
  {
   "cell_type": "markdown",
   "metadata": {},
   "source": [
"### 回答\n"

   ]
  }
,
  {
   "cell_type": "code",
   "execution_count": null,
   "metadata": {
    "vscode": {
     "languageId": "plaintext"
    }
   },
   "outputs": [],
   "source": []
  }
,
  {
   "cell_type": "markdown",
   "metadata": {},
   "source": [
"## 5. nDCG\n"
,
"\n",
"製品をgainの降順にソートしたとき、DCGは理想値 (ideal DCG) をとる。\n",
"英語結合データにおいて、`query_id` ごとのideal DCG@10を求めよ。\n",
"ただし、英語結合データ中に全ての適合な製品が含まれているものと仮定してよい。\n",
"\n",
"また、ベースラインと改善版のランキングそれぞれについて、normalized discounted cumulative gain (nDCG) @10の平均値を示せ。\n",
"\n"
   ]
  }
,
  {
   "cell_type": "markdown",
   "metadata": {},
   "source": [
"### 回答\n"

   ]
  }
,
  {
   "cell_type": "code",
   "execution_count": null,
   "metadata": {
    "vscode": {
     "languageId": "plaintext"
    }
   },
   "outputs": [],
   "source": []
  }
,
  {
   "cell_type": "markdown",
   "metadata": {},
   "source": [
"## 6. 符号検定\n"
,
"\n",
"ベースラインと改善版のランキングのnDCG@10に差がないと仮定すると、ある `query_id` について両者を比較したとき、どちらが大きいかは五分五分である。\n",
"現にどちらかが大きかった回数をそれぞれ数えよ。\n",
"この結果について符号検定を行え。\n",
"\n"
   ]
  }
,
  {
   "cell_type": "markdown",
   "metadata": {},
   "source": [
"### 回答\n"

   ]
  }
,
  {
   "cell_type": "code",
   "execution_count": null,
   "metadata": {
    "vscode": {
     "languageId": "plaintext"
    }
   },
   "outputs": [],
   "source": []
  }
,
  {
   "cell_type": "markdown",
   "metadata": {},
   "source": [
"## 7. *t*検定\n"
,
"\n",
"ベースラインと改善版のランキングのnDCG@10の平均値の差について、対応のある*t*検定を行い*p*値を求めよ。\n",
"ただし、対応は `query_id` ごとに取るものとする。\n",
"\n"
   ]
  }
,
  {
   "cell_type": "markdown",
   "metadata": {},
   "source": [
"### 回答\n"

   ]
  }
,
  {
   "cell_type": "code",
   "execution_count": null,
   "metadata": {
    "vscode": {
     "languageId": "plaintext"
    }
   },
   "outputs": [],
   "source": []
  }
,
  {
   "cell_type": "markdown",
   "metadata": {},
   "source": [
"## 8. 多重検定\n"
,
"\n",
"任意のさらなる改善を加えた**再改善版**のランキングを構成せよ。\n",
"例えば本ハンズオンの別章を参考にせよ。\n",
"\n",
"再改善版のランキングについてもnDCG@10を計算せよ。\n",
"また、ベースライン、改善版、再改善版の各ランキングについて、例えば有意水準0.05および0.01として、nDCG@10の平均値の差の検定を行え。\n",
"このとき、多重検定になるので、ボンフェローニ補正を行え。\n",
"\n"
   ]
  }
,
  {
   "cell_type": "markdown",
   "metadata": {},
   "source": [
"### 回答\n"

   ]
  }
,
  {
   "cell_type": "code",
   "execution_count": null,
   "metadata": {
    "vscode": {
     "languageId": "plaintext"
    }
   },
   "outputs": [],
   "source": []
  }
,
  {
   "cell_type": "markdown",
   "metadata": {},
   "source": [
"## 9. 正規性の検定\n"
,
"\n",
"対応のある*t*検定は、本来データの正規性を前提としている。\n",
"そこで、ベースラインと改善版のランキングそれぞれのnDCG@10の分布について、正規性の検定を行え。\n"
   ]
  }
,
  {
   "cell_type": "markdown",
   "metadata": {},
   "source": [
"### 回答\n"

   ]
  }
,
  {
   "cell_type": "code",
   "execution_count": null,
   "metadata": {
    "vscode": {
     "languageId": "plaintext"
    }
   },
   "outputs": [],
   "source": []
  }

 ],
 "metadata": {
  "kernelspec": {
   "display_name": ".venv",
   "language": "python",
   "name": "python3"
  },
  "language_info": {
   "codemirror_mode": {
    "name": "ipython",
    "version": 3
   },
   "file_extension": ".py",
   "mimetype": "text/x-python",
   "name": "python",
   "nbconvert_exporter": "python",
   "pygments_lexer": "ipython3",
   "version": "3.11.4"
  },
  "orig_nbformat": 4
 },
 "nbformat": 4,
 "nbformat_minor": 2
}

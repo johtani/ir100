{
 "cells": [
  {
   "cell_type": "markdown",
   "metadata": {},
   "source": [
    "# 1. 転置インデックスとマッチング\n",
    "\n",
    "（想定実行時間：それぞれ1分以内）\n",
    "\n"
   ]
  },
  {
   "cell_type": "markdown",
   "metadata": {},
   "source": [
    "## 1. ディクショナリ\n",
    "\n",
    "英語製品データについて、以下の連想配列を構築せよ。\n",
    "ただし、単語はスペースで区切られているものとする（以降の問題でも同じ）。\n",
    "\n",
    "- キー： `product_title` フィールドに出現する単語。\n",
    "- 値：その単語の出現回数。ただし、全ての製品における合計とする。\n",
    "\n",
    "また、単語の異なり数が約90万であることを確かめよ。\n",
    "\n"
   ]
  },
  {
   "cell_type": "markdown",
   "metadata": {},
   "source": [
    "### 回答\n"
   ]
  },
  {
   "cell_type": "code",
   "execution_count": null,
   "metadata": {
    "vscode": {
     "languageId": "plaintext"
    }
   },
   "outputs": [],
   "source": []
  },
  {
   "cell_type": "markdown",
   "metadata": {},
   "source": [
    "## 2. ポスティングリスト\n",
    "\n",
    "単語 `Information` を `product_title` フィールドに含む製品の `product_id` の配列を出力せよ。\n",
    "ただし、大文字と小文字を区別するものとする（例えば `Information` と `information` は異なる単語とする。以降の問題でも同じ）。\n",
    "また、`product_id` は辞書順とし、重複してはならない（以降の問題でも同じ）。\n",
    "\n",
    "また、この配列の要素数が110であることを確かめよ。\n",
    "\n"
   ]
  },
  {
   "cell_type": "markdown",
   "metadata": {},
   "source": [
    "### 回答\n"
   ]
  },
  {
   "cell_type": "code",
   "execution_count": null,
   "metadata": {
    "vscode": {
     "languageId": "plaintext"
    }
   },
   "outputs": [],
   "source": []
  },
  {
   "cell_type": "markdown",
   "metadata": {},
   "source": [
    "## 3. 転置インデックス\n",
    "\n",
    "以下の連想配列を構築せよ：\n",
    "\n",
    "- キー：`product_title` フィールドに出現する単語。\n",
    "- 値：その単語を `product_title` フィールドに含む製品の `product_id` の配列。\n",
    "\n",
    "また、この連想配列について、以下のことを確かめよ：\n",
    "\n",
    "- エントリ数が `1.` の連想配列のそれと等しいこと。\n",
    "- `Information` に紐づいた配列が `2.` の配列と等しいこと。\n",
    "\n",
    "以降、このデータ構造を**転置インデックス**、転置インデックスの値を**ポスティングリスト**と呼ぶ。\n",
    "\n"
   ]
  },
  {
   "cell_type": "markdown",
   "metadata": {},
   "source": [
    "### 回答\n"
   ]
  },
  {
   "cell_type": "code",
   "execution_count": null,
   "metadata": {
    "vscode": {
     "languageId": "plaintext"
    }
   },
   "outputs": [],
   "source": []
  },
  {
   "cell_type": "markdown",
   "metadata": {},
   "source": [
    "## 4. 永続化\n",
    "\n",
    "転置インデックスをメモリからディスクに書き込んだり、ディスクからメモリに読み込んだりできるようにせよ。\n",
    "\n"
   ]
  },
  {
   "cell_type": "markdown",
   "metadata": {},
   "source": [
    "### 回答\n"
   ]
  },
  {
   "cell_type": "code",
   "execution_count": null,
   "metadata": {
    "vscode": {
     "languageId": "plaintext"
    }
   },
   "outputs": [],
   "source": []
  },
  {
   "cell_type": "markdown",
   "metadata": {},
   "source": [
    "## 5. ブーリアンAND検索\n",
    "\n",
    "転置インデックスを用いて、2単語 `Information` と `Science` を**ともに** `product_title` フィールドに含む製品の `product_id` の配列を出力せよ。\n",
    "ただし、配列が非常に長い場合にも効率的なコードにせよ（以降の問題でも同じ）。\n",
    "\n",
    "また、この配列の要素数が3であることを確かめよ。\n",
    "\n"
   ]
  },
  {
   "cell_type": "markdown",
   "metadata": {},
   "source": [
    "### 回答\n"
   ]
  },
  {
   "cell_type": "code",
   "execution_count": null,
   "metadata": {
    "vscode": {
     "languageId": "plaintext"
    }
   },
   "outputs": [],
   "source": []
  },
  {
   "cell_type": "markdown",
   "metadata": {},
   "source": [
    "## 6. ブーリアンOR検索\n",
    "\n",
    "転置インデックスを用いて、2単語 `Information` と `Retrieval` の**少なくとも片方を** `product_title` フィールドに含む製品の `product_id` の配列を出力せよ。\n",
    "\n",
    "また、この配列の要素数が129であることを確かめよ。\n",
    "\n"
   ]
  },
  {
   "cell_type": "markdown",
   "metadata": {},
   "source": [
    "### 回答\n"
   ]
  },
  {
   "cell_type": "code",
   "execution_count": null,
   "metadata": {
    "vscode": {
     "languageId": "plaintext"
    }
   },
   "outputs": [],
   "source": []
  },
  {
   "cell_type": "markdown",
   "metadata": {},
   "source": [
    "## 7. 条件の否定\n",
    "\n",
    "`5.` の条件を**満たさず**、かつ、`6.` の条件を満たす製品の `product_id` の配列を出力せよ。\n",
    "\n",
    "また、この配列の要素数が126であることを確かめよ。\n",
    "\n"
   ]
  },
  {
   "cell_type": "markdown",
   "metadata": {},
   "source": [
    "### 回答\n"
   ]
  },
  {
   "cell_type": "code",
   "execution_count": null,
   "metadata": {
    "vscode": {
     "languageId": "plaintext"
    }
   },
   "outputs": [],
   "source": []
  },
  {
   "cell_type": "markdown",
   "metadata": {},
   "source": [
    "## 8. 完全一致\n",
    "\n",
    "`product_brand` フィールドに関する転置インデックスを構築せよ。\n",
    "ただし単語に区切らず、フィールドの値をそのまま連想配列のキーとすること。\n",
    "\n"
   ]
  },
  {
   "cell_type": "markdown",
   "metadata": {},
   "source": [
    "### 回答\n"
   ]
  },
  {
   "cell_type": "code",
   "execution_count": null,
   "metadata": {
    "vscode": {
     "languageId": "plaintext"
    }
   },
   "outputs": [],
   "source": []
  },
  {
   "cell_type": "markdown",
   "metadata": {},
   "source": [
    "## 9. 複数フィールドの横断\n",
    "\n",
    "転置インデックスを用いて、`product_title` フィールドに単語 `Amazon` を含み、かつ、`product_brand` フィールドの値が `Amazon Basics` **ではない**製品の数が8,681であることを確かめよ。\n",
    "\n"
   ]
  },
  {
   "cell_type": "markdown",
   "metadata": {},
   "source": [
    "### 回答\n"
   ]
  },
  {
   "cell_type": "code",
   "execution_count": null,
   "metadata": {
    "vscode": {
     "languageId": "plaintext"
    }
   },
   "outputs": [],
   "source": []
  },
  {
   "cell_type": "markdown",
   "metadata": {},
   "source": [
    "## 10. プレフィックス\n",
    "\n",
    "`3.` で構築した転置インデックスを圧縮する。\n",
    "`product_id` が固定長であり、かつ辞書順にソートされていることを利用して、ポスティングリスト上で前の `product_id` と共通のプレフィックスを省略せよ。\n",
    "このとき、ポスティングリストのイテレータ（`product_id` を復元して返す）も実装せよ。\n",
    "\n"
   ]
  },
  {
   "cell_type": "markdown",
   "metadata": {},
   "source": [
    "### 回答\n"
   ]
  },
  {
   "cell_type": "code",
   "execution_count": null,
   "metadata": {
    "vscode": {
     "languageId": "plaintext"
    }
   },
   "outputs": [],
   "source": []
  },
  {
   "cell_type": "markdown",
   "metadata": {},
   "source": [
    "## 11. 符号化\n",
    "\n",
    "前問で構築した転置インデックスを更に圧縮する。\n",
    "ポスティングリストとは別に全ての `product_id` の辞書順の配列を保存しておき、そのインデックスによってポスティングリストから `product_id` を参照するようにせよ。\n",
    "また、イテレータも実装せよ。\n",
    "\n"
   ]
  },
  {
   "cell_type": "markdown",
   "metadata": {},
   "source": [
    "### 回答\n"
   ]
  },
  {
   "cell_type": "code",
   "execution_count": null,
   "metadata": {
    "vscode": {
     "languageId": "plaintext"
    }
   },
   "outputs": [],
   "source": []
  },
  {
   "cell_type": "markdown",
   "metadata": {},
   "source": [
    "## 12. Variable Byte Encoding\n",
    "\n",
    "前問で構築した転置インデックスを更に圧縮する。\n",
    "ポスティングリスト中のインデックスが単調増加することを利用して、前のインデックスからの差を保存せよ。\n",
    "このとき、差は小さな整数になると期待されるので、variable byte encodingにより圧縮せよ。\n",
    "また、イテレータも実装せよ。\n"
   ]
  },
  {
   "cell_type": "markdown",
   "metadata": {},
   "source": [
    "### 回答\n"
   ]
  },
  {
   "cell_type": "code",
   "execution_count": null,
   "metadata": {
    "vscode": {
     "languageId": "plaintext"
    }
   },
   "outputs": [],
   "source": []
  }
 ],
 "metadata": {
  "kernelspec": {
   "display_name": ".venv",
   "language": "python",
   "name": "python3"
  },
  "language_info": {
   "codemirror_mode": {
    "name": "ipython",
    "version": 3
   },
   "file_extension": ".py",
   "mimetype": "text/x-python",
   "name": "python",
   "nbconvert_exporter": "python",
   "pygments_lexer": "ipython3",
   "version": "3.11.4"
  },
  "orig_nbformat": 4
 },
 "nbformat": 4,
 "nbformat_minor": 2
}

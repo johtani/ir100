{
 "cells": [
  {
   "cell_type": "markdown",
   "metadata": {},
   "source": [
    "# 1. 転置インデックスとマッチング\n",
    "\n",
    "（想定実行時間：それぞれ1分以内）\n",
    "\n"
   ]
  },
  {
   "cell_type": "markdown",
   "metadata": {},
   "source": [
    "## 1. ディクショナリ\n",
    "\n",
    "英語製品データについて、以下の連想配列を構築せよ。\n",
    "ただし、単語はスペースで区切られているものとする（以降の問題でも同じ）。\n",
    "\n",
    "- キー： `product_title` フィールドに出現する単語。\n",
    "- 値：その単語の出現回数。ただし、全ての製品における合計とする。\n",
    "\n",
    "また、単語の異なり数が約90万であることを確かめよ。\n",
    "\n"
   ]
  },
  {
   "cell_type": "markdown",
   "metadata": {},
   "source": [
    "### 回答\n"
   ]
  },
  {
   "cell_type": "code",
   "execution_count": 26,
   "metadata": {},
   "outputs": [
    {
     "name": "stdout",
     "output_type": "stream",
     "text": [
      "Start loading products...\n",
      "Loaded products.\n",
      " load_product_dataframe: 5721.454ms 5721453796.000ns\n",
      "Start counting...\n",
      " create_product_title_dictionary: 5815.825ms 5815825232.000ns\n"
     ]
    },
    {
     "data": {
      "text/plain": [
       "912923"
      ]
     },
     "execution_count": 26,
     "metadata": {},
     "output_type": "execute_result"
    }
   ],
   "source": [
    "import pandas as pd\n",
    "from pandas import DataFrame\n",
    "import pathlib\n",
    "from typing import Dict\n",
    "import time\n",
    "\n",
    "def print_perf(func):\n",
    "    def wrapper(*args, **kargs):\n",
    "        start = time.perf_counter_ns()\n",
    "        result = func(*args, **kargs)\n",
    "        end = time.perf_counter_ns()\n",
    "        print(f\" {func.__name__}: {format((end - start)/1000000, '.3f')}ms {format(end - start, '.3f')}ns\")\n",
    "        return result\n",
    "    return wrapper\n",
    "\n",
    "\n",
    "# DataFrameの取り出し\n",
    "@print_perf\n",
    "def load_product_dataframe() -> DataFrame:\n",
    "    esci_path = pathlib.Path(\"../esci-data/shopping_queries_dataset\")\n",
    "    print(\"Start loading products...\")\n",
    "    df_products = pd.read_parquet(esci_path.joinpath(\"shopping_queries_dataset_products.parquet\"))\n",
    "    print(\"Loaded products.\")\n",
    "    df_products_us = df_products[df_products[\"product_locale\"] == \"us\"] \n",
    "    return df_products_us\n",
    "\n",
    "@print_perf\n",
    "def create_product_title_dictionary(products: DataFrame) -> Dict[str, int]:\n",
    "    print(\"Start counting...\")\n",
    "    dict_split_default: Dict[str, int] = {}\n",
    "    for title in products[\"product_title\"]:\n",
    "        for word in title.split():\n",
    "            # 辞書に数を数えながら追加\n",
    "            if len(word) > 0:\n",
    "                if word in dict_split_default:\n",
    "                    dict_split_default[word] = dict_split_default[word] + 1\n",
    "                else:\n",
    "                    dict_split_default[word] = 1\n",
    "    return dict_split_default\n",
    "\n",
    "df_products = load_product_dataframe()\n",
    "\n",
    "title_dictionary = create_product_title_dictionary(df_products)\n",
    "\n",
    "len(title_dictionary)\n",
    "\n"
   ]
  },
  {
   "cell_type": "markdown",
   "metadata": {},
   "source": [
    "## 2. ポスティングリスト\n",
    "\n",
    "単語 `Information` を `product_title` フィールドに含む製品の `product_id` の配列を出力せよ。\n",
    "ただし、大文字と小文字を区別するものとする（例えば `Information` と `information` は異なる単語とする。以降の問題でも同じ）。\n",
    "また、`product_id` は辞書順とし、重複してはならない（以降の問題でも同じ）。\n",
    "\n",
    "また、この配列の要素数が110であることを確かめよ。\n",
    "\n"
   ]
  },
  {
   "cell_type": "markdown",
   "metadata": {},
   "source": [
    "### 回答\n"
   ]
  },
  {
   "cell_type": "code",
   "execution_count": 27,
   "metadata": {},
   "outputs": [
    {
     "name": "stdout",
     "output_type": "stream",
     "text": [
      "Start counting...\n",
      " find_products_with_word_in_title: 5603.820ms 5603819783.000ns\n",
      "Postings list size of \"Information\" is 110\n"
     ]
    }
   ],
   "source": [
    "from typing import List\n",
    "\n",
    "@print_perf\n",
    "def find_products_with_word_in_title(products: DataFrame, word: str) -> List[str]:\n",
    "    ids = []\n",
    "    print(\"Start counting...\")\n",
    "    sorted_products = products.sort_values(\"product_id\")\n",
    "    for product in sorted_products.itertuples():\n",
    "        if word in product.product_title.split():\n",
    "            ids.append(product.product_id)\n",
    "    return ids\n",
    "\n",
    "# InformationのIDのリスト\n",
    "ids = find_products_with_word_in_title(df_products, \"Information\") \n",
    "\n",
    "print(f\"Postings list size of \\\"Information\\\" is {len(ids)}\")\n",
    "\n"
   ]
  },
  {
   "cell_type": "markdown",
   "metadata": {},
   "source": [
    "## 3. 転置インデックス\n",
    "\n",
    "以下の連想配列を構築せよ：\n",
    "\n",
    "- キー：`product_title` フィールドに出現する単語。\n",
    "- 値：その単語を `product_title` フィールドに含む製品の `product_id` の配列。\n",
    "\n",
    "また、この連想配列について、以下のことを確かめよ：\n",
    "\n",
    "- エントリ数が `1.` の連想配列のそれと等しいこと。\n",
    "- `Information` に紐づいた配列が `2.` の配列と等しいこと。\n",
    "\n",
    "以降、このデータ構造を**転置インデックス**、転置インデックスの値を**ポスティングリスト**と呼ぶ。\n",
    "\n"
   ]
  },
  {
   "cell_type": "markdown",
   "metadata": {},
   "source": [
    "### 回答\n",
    "\n",
    "2ですでに作ってしまったので、数の確認だけにとどめる。"
   ]
  },
  {
   "cell_type": "code",
   "execution_count": 28,
   "metadata": {},
   "outputs": [
    {
     "name": "stdout",
     "output_type": "stream",
     "text": [
      "Start creating inverted index...\n",
      " create_product_title_inverted_index: 16538.425ms 16538425266.000ns\n",
      "エントリー数が等しいかどうか？ True\n",
      "Informationの配列が等しいかどうか？ True\n"
     ]
    }
   ],
   "source": [
    "@print_perf\n",
    "def create_product_title_inverted_index(products: DataFrame) -> Dict[str,List[str]]:\n",
    "    print(\"Start creating inverted index...\")\n",
    "    inverted_index = {}\n",
    "    sorted_products = products.sort_values(\"product_id\")\n",
    "    for product in sorted_products.itertuples():\n",
    "        words = product.product_title.split()\n",
    "        words.sort()\n",
    "        prev_word = \"\"\n",
    "        for word in words:\n",
    "            if prev_word != word:\n",
    "                if word in inverted_index:\n",
    "                    inverted_index[word].append(product.product_id)\n",
    "                else:\n",
    "                    inverted_index[word] = [product.product_id]\n",
    "            prev_word = word\n",
    "    return inverted_index\n",
    "\n",
    "title_inverted_index = create_product_title_inverted_index(df_products)\n",
    "\n",
    "print(f\"エントリー数が等しいかどうか？ {len(title_dictionary) == len(title_inverted_index)}\")\n",
    "print(f\"Informationの配列が等しいかどうか？ {len(ids) == len(title_inverted_index['Information'])}\")\n"
   ]
  },
  {
   "cell_type": "markdown",
   "metadata": {},
   "source": [
    "## 4. 永続化\n",
    "\n",
    "転置インデックスをメモリからディスクに書き込んだり、ディスクからメモリに読み込んだりできるようにせよ。\n",
    "\n"
   ]
  },
  {
   "cell_type": "markdown",
   "metadata": {},
   "source": [
    "### 回答\n"
   ]
  },
  {
   "cell_type": "code",
   "execution_count": 29,
   "metadata": {},
   "outputs": [
    {
     "name": "stdout",
     "output_type": "stream",
     "text": [
      " dump: 4175.818ms 4175818347.000ns\n",
      " load: 5170.530ms 5170529719.000ns\n",
      "Postings list size of \"Information\" is 110\n"
     ]
    },
    {
     "data": {
      "text/plain": [
       "['0133741621',\n",
       " '0134296540',\n",
       " '0135217725',\n",
       " '0262031639',\n",
       " '0399159258',\n",
       " '073860836X',\n",
       " '0738610364',\n",
       " '0804717265',\n",
       " '0823085546',\n",
       " '0993294812',\n",
       " '107014598X',\n",
       " '1081837160',\n",
       " '1097276546',\n",
       " '1099719615',\n",
       " '1099741408',\n",
       " '1099998190',\n",
       " '1118674367',\n",
       " '1118890795',\n",
       " '1118988531',\n",
       " '111900294X',\n",
       " '1119101603',\n",
       " '1138366404',\n",
       " '1426215436',\n",
       " '1440574561',\n",
       " '1440854475',\n",
       " '1440875049',\n",
       " '1441317295',\n",
       " '1441317996',\n",
       " '1491911689',\n",
       " '1510750789',\n",
       " '1545261261',\n",
       " '1593995520',\n",
       " '1598849891',\n",
       " '1619549506',\n",
       " '1631592963',\n",
       " '1688868674',\n",
       " '1690155701',\n",
       " '1695096584',\n",
       " '1697447031',\n",
       " '1796683000',\n",
       " '1796688916',\n",
       " '1798422395',\n",
       " '1938377001',\n",
       " '3030418189',\n",
       " 'B000RR4AU2',\n",
       " 'B000XYT3IS',\n",
       " 'B000XYT3J2',\n",
       " 'B000XYT3JC',\n",
       " 'B000XYT3JM',\n",
       " 'B000Y2TU7S',\n",
       " 'B000Y2TU82',\n",
       " 'B0019WTCYS',\n",
       " 'B002QX43ZM',\n",
       " 'B00BZA22B4',\n",
       " 'B00BZA22BE',\n",
       " 'B00G334QXU',\n",
       " 'B00OVNI8XI',\n",
       " 'B00RZJ2Y2Q',\n",
       " 'B00T0ROWE4',\n",
       " 'B00U9AJB24',\n",
       " 'B00VEYRZBI',\n",
       " 'B010CKGBVE',\n",
       " 'B018OERCSQ',\n",
       " 'B01EHX2BH0',\n",
       " 'B01H301G4I',\n",
       " 'B01IL2G2XW',\n",
       " 'B06XBPJVKC',\n",
       " 'B0721B8M3J',\n",
       " 'B073NPGMPQ',\n",
       " 'B074T1BM2G',\n",
       " 'B077KX3DL8',\n",
       " 'B077SZB94D',\n",
       " 'B078HHVWQ4',\n",
       " 'B078HXC36G',\n",
       " 'B07F8Y9Q6L',\n",
       " 'B07G2MM464',\n",
       " 'B07GSNL817',\n",
       " 'B07HDWHXH5',\n",
       " 'B07JLDX9LL',\n",
       " 'B07JX575DQ',\n",
       " 'B07L8BHBRL',\n",
       " 'B07MMQZNTQ',\n",
       " 'B07N7PWZDC',\n",
       " 'B07NQ7XKX6',\n",
       " 'B07P2B31C6',\n",
       " 'B07PLQ65QW',\n",
       " 'B07RZ9933S',\n",
       " 'B07VHMM1NR',\n",
       " 'B07ZJYNKDQ',\n",
       " 'B0816B6CRM',\n",
       " 'B081QCCD1N',\n",
       " 'B084GWG2J5',\n",
       " 'B085DJ6GHF',\n",
       " 'B0871ML4JC',\n",
       " 'B087CNFMP6',\n",
       " 'B087NY41CY',\n",
       " 'B087QKHJ98',\n",
       " 'B0897WT9N9',\n",
       " 'B089T8BGC5',\n",
       " 'B08BFNFYN6',\n",
       " 'B08CTGZP2P',\n",
       " 'B08DN27M5Z',\n",
       " 'B08DQWL5DT',\n",
       " 'B08QRN26X4',\n",
       " 'B08TRWCXNF',\n",
       " 'B08VD4S34Z',\n",
       " 'B08WVDM19B',\n",
       " 'B08YRNTCK1',\n",
       " 'B093QLNFHR',\n",
       " 'B09713RXX4']"
      ]
     },
     "execution_count": 29,
     "metadata": {},
     "output_type": "execute_result"
    }
   ],
   "source": [
    "import pickle\n",
    "from pathlib import Path\n",
    "\n",
    "@print_perf\n",
    "def dump(file: Path, inverted_index: Dict[str, List[str]]):\n",
    "    with dump_file.open(mode=\"wb\") as dwf:\n",
    "        pickle.dump(obj=inverted_index, file=dwf)\n",
    "\n",
    "@print_perf\n",
    "def load(file: Path) -> Dict[str,List[str]]:\n",
    "    with file.open(mode=\"rb\") as drf:\n",
    "        loaded_dict = pickle.load(file=drf)\n",
    "    return loaded_dict\n",
    "\n",
    "dump_file = pathlib.Path(\"./inverted_index.dump\")\n",
    "\n",
    "dump(file=dump_file, inverted_index=title_inverted_index)\n",
    "loaded_dict = load(file=dump_file)\n",
    "\n",
    "ids = list(loaded_dict[\"Information\"])\n",
    "ids.sort()\n",
    "print(f\"Postings list size of \\\"Information\\\" is {len(ids)}\")\n",
    "ids"
   ]
  },
  {
   "cell_type": "markdown",
   "metadata": {},
   "source": [
    "## 5. ブーリアンAND検索\n",
    "\n",
    "転置インデックスを用いて、2単語 `Information` と `Science` を**ともに** `product_title` フィールドに含む製品の `product_id` の配列を出力せよ。\n",
    "ただし、配列が非常に長い場合にも効率的なコードにせよ（以降の問題でも同じ）。\n",
    "\n",
    "また、この配列の要素数が3であることを確かめよ。\n",
    "\n"
   ]
  },
  {
   "cell_type": "markdown",
   "metadata": {},
   "source": [
    "### 回答\n"
   ]
  },
  {
   "cell_type": "code",
   "execution_count": 35,
   "metadata": {},
   "outputs": [
    {
     "name": "stdout",
     "output_type": "stream",
     "text": [
      " intersection_using_set: 0.269ms 268551.000ns\n",
      "Length = 3\n"
     ]
    }
   ],
   "source": [
    "info_list = loaded_dict[\"Information\"]\n",
    "sci_list = loaded_dict[\"Science\"]\n",
    "\n",
    "@print_perf\n",
    "def intersection_using_set(list1: List[str], list2: List[str]) -> List[str]:\n",
    "    return list(set(list1).intersection(list2))\n",
    "\n",
    "@print_perf\n",
    "def intersection(list1: List[str], list2: List[str]) -> List[str]:\n",
    "    while True:\n",
    "        \n",
    "        break\n",
    "    pass\n",
    "\n",
    "intersection_list = intersection_using_set(list1=info_list, list2=sci_list)\n",
    "print(f\"Length = {len(intersection_list)}\")\n"
   ]
  },
  {
   "cell_type": "markdown",
   "metadata": {},
   "source": [
    "## 6. ブーリアンOR検索\n",
    "\n",
    "転置インデックスを用いて、2単語 `Information` と `Retrieval` の**少なくとも片方を** `product_title` フィールドに含む製品の `product_id` の配列を出力せよ。\n",
    "\n",
    "また、この配列の要素数が129であることを確かめよ。\n",
    "\n"
   ]
  },
  {
   "cell_type": "markdown",
   "metadata": {},
   "source": [
    "### 回答\n"
   ]
  },
  {
   "cell_type": "code",
   "execution_count": 36,
   "metadata": {},
   "outputs": [
    {
     "name": "stdout",
     "output_type": "stream",
     "text": [
      " union_using_set: 0.080ms 79908.000ns\n",
      "Length = 129\n"
     ]
    },
    {
     "data": {
      "text/plain": [
       "['0133741621',\n",
       " '0134296540',\n",
       " '0135217725',\n",
       " '0262031639',\n",
       " '0399159258',\n",
       " '073860836X',\n",
       " '0738610364',\n",
       " '0804717265',\n",
       " '0823085546',\n",
       " '0993294812',\n",
       " '107014598X',\n",
       " '1081837160',\n",
       " '1097276546',\n",
       " '1099719615',\n",
       " '1099741408',\n",
       " '1099998190',\n",
       " '1118674367',\n",
       " '1118890795',\n",
       " '1118988531',\n",
       " '111900294X',\n",
       " '1119101603',\n",
       " '1138366404',\n",
       " '1426215436',\n",
       " '1440574561',\n",
       " '1440854475',\n",
       " '1440875049',\n",
       " '1441317295',\n",
       " '1441317996',\n",
       " '1491911689',\n",
       " '1510750789',\n",
       " '1545261261',\n",
       " '1593995520',\n",
       " '1598849891',\n",
       " '1619549506',\n",
       " '1631592963',\n",
       " '1688868674',\n",
       " '1690155701',\n",
       " '1695096584',\n",
       " '1697447031',\n",
       " '1796683000',\n",
       " '1796688916',\n",
       " '1798422395',\n",
       " '1938377001',\n",
       " '3030418189',\n",
       " 'B000RR4AU2',\n",
       " 'B000XYT3IS',\n",
       " 'B000XYT3J2',\n",
       " 'B000XYT3JC',\n",
       " 'B000XYT3JM',\n",
       " 'B000Y2TU7S',\n",
       " 'B000Y2TU82',\n",
       " 'B0019WTCYS',\n",
       " 'B001TH8DIO',\n",
       " 'B002QX43ZM',\n",
       " 'B0030G7YSM',\n",
       " 'B00BZA22B4',\n",
       " 'B00BZA22BE',\n",
       " 'B00G334QXU',\n",
       " 'B00N4TDRCC',\n",
       " 'B00OVNI8XI',\n",
       " 'B00PMZ8QKY',\n",
       " 'B00Q3HJRJE',\n",
       " 'B00Q3HKEI2',\n",
       " 'B00QLZLWNW',\n",
       " 'B00RZJ2Y2Q',\n",
       " 'B00T0ROWE4',\n",
       " 'B00U9AJB24',\n",
       " 'B00VEYRZBI',\n",
       " 'B010CKGBVE',\n",
       " 'B018OERCSQ',\n",
       " 'B01EHX2BH0',\n",
       " 'B01H301G4I',\n",
       " 'B01IL2G2XW',\n",
       " 'B01L8BGT9A',\n",
       " 'B06XBPJVKC',\n",
       " 'B0721B8M3J',\n",
       " 'B073NPGMPQ',\n",
       " 'B074T1BM2G',\n",
       " 'B077KX3DL8',\n",
       " 'B077SZB94D',\n",
       " 'B078HHVWQ4',\n",
       " 'B078HXC36G',\n",
       " 'B07CYYK2QR',\n",
       " 'B07F8Y9Q6L',\n",
       " 'B07G2MM464',\n",
       " 'B07GC1SMBD',\n",
       " 'B07GSNL817',\n",
       " 'B07HDWHXH5',\n",
       " 'B07JJTBG9L',\n",
       " 'B07JLDX9LL',\n",
       " 'B07JX575DQ',\n",
       " 'B07L8BHBRL',\n",
       " 'B07MMQZNTQ',\n",
       " 'B07MYC7R6S',\n",
       " 'B07N7PWZDC',\n",
       " 'B07NQ7XKX6',\n",
       " 'B07P2B31C6',\n",
       " 'B07PLQ65QW',\n",
       " 'B07RFSHK6P',\n",
       " 'B07RZ9933S',\n",
       " 'B07VHMM1NR',\n",
       " 'B07X37KV1K',\n",
       " 'B07XRHJKQW',\n",
       " 'B07YBT4HQZ',\n",
       " 'B07ZJYNKDQ',\n",
       " 'B0816B6CRM',\n",
       " 'B081QCCD1N',\n",
       " 'B0838VZ58P',\n",
       " 'B0849TDTHZ',\n",
       " 'B084GWG2J5',\n",
       " 'B085DJ6GHF',\n",
       " 'B0871ML4JC',\n",
       " 'B087B4H1T6',\n",
       " 'B087CNFMP6',\n",
       " 'B087NY41CY',\n",
       " 'B087QKHJ98',\n",
       " 'B0897WT9N9',\n",
       " 'B089T8BGC5',\n",
       " 'B08BFNFYN6',\n",
       " 'B08CTGZP2P',\n",
       " 'B08DN27M5Z',\n",
       " 'B08DQWL5DT',\n",
       " 'B08QRN26X4',\n",
       " 'B08TRWCXNF',\n",
       " 'B08VD4S34Z',\n",
       " 'B08WVDM19B',\n",
       " 'B08YRNTCK1',\n",
       " 'B093QLNFHR',\n",
       " 'B09713RXX4']"
      ]
     },
     "execution_count": 36,
     "metadata": {},
     "output_type": "execute_result"
    }
   ],
   "source": [
    "ret_list = loaded_dict[\"Retrieval\"]\n",
    "\n",
    "@print_perf\n",
    "def union_using_set(list1: List[str], list2: List[str]) -> List[str]:\n",
    "    return sorted(list(set(list1).union(list2)))\n",
    "\n",
    "union_list = union_using_set(info_list, ret_list)\n",
    "print(f\"Length = {len(union_list)}\")\n",
    "union_list"
   ]
  },
  {
   "cell_type": "markdown",
   "metadata": {},
   "source": [
    "## 7. 条件の否定\n",
    "\n",
    "`5.` の条件を**満たさず**、かつ、`6.` の条件を満たす製品の `product_id` の配列を出力せよ。\n",
    "\n",
    "また、この配列の要素数が126であることを確かめよ。\n",
    "\n"
   ]
  },
  {
   "cell_type": "markdown",
   "metadata": {},
   "source": [
    "### 回答\n"
   ]
  },
  {
   "cell_type": "code",
   "execution_count": 38,
   "metadata": {},
   "outputs": [
    {
     "name": "stdout",
     "output_type": "stream",
     "text": [
      " difference_using_set: 0.016ms 15820.000ns\n",
      "Length = 126\n"
     ]
    },
    {
     "data": {
      "text/plain": [
       "['0133741621',\n",
       " '0134296540',\n",
       " '0135217725',\n",
       " '0262031639',\n",
       " '0399159258',\n",
       " '073860836X',\n",
       " '0738610364',\n",
       " '0804717265',\n",
       " '0823085546',\n",
       " '0993294812',\n",
       " '107014598X',\n",
       " '1081837160',\n",
       " '1097276546',\n",
       " '1099719615',\n",
       " '1099741408',\n",
       " '1099998190',\n",
       " '1118674367',\n",
       " '1118890795',\n",
       " '1118988531',\n",
       " '111900294X',\n",
       " '1119101603',\n",
       " '1138366404',\n",
       " '1426215436',\n",
       " '1440574561',\n",
       " '1441317295',\n",
       " '1441317996',\n",
       " '1491911689',\n",
       " '1510750789',\n",
       " '1545261261',\n",
       " '1593995520',\n",
       " '1619549506',\n",
       " '1631592963',\n",
       " '1688868674',\n",
       " '1690155701',\n",
       " '1695096584',\n",
       " '1697447031',\n",
       " '1796683000',\n",
       " '1796688916',\n",
       " '1798422395',\n",
       " '1938377001',\n",
       " '3030418189',\n",
       " 'B000RR4AU2',\n",
       " 'B000XYT3IS',\n",
       " 'B000XYT3J2',\n",
       " 'B000XYT3JC',\n",
       " 'B000XYT3JM',\n",
       " 'B000Y2TU7S',\n",
       " 'B000Y2TU82',\n",
       " 'B0019WTCYS',\n",
       " 'B001TH8DIO',\n",
       " 'B002QX43ZM',\n",
       " 'B0030G7YSM',\n",
       " 'B00BZA22B4',\n",
       " 'B00BZA22BE',\n",
       " 'B00G334QXU',\n",
       " 'B00N4TDRCC',\n",
       " 'B00OVNI8XI',\n",
       " 'B00PMZ8QKY',\n",
       " 'B00Q3HJRJE',\n",
       " 'B00Q3HKEI2',\n",
       " 'B00QLZLWNW',\n",
       " 'B00RZJ2Y2Q',\n",
       " 'B00T0ROWE4',\n",
       " 'B00U9AJB24',\n",
       " 'B00VEYRZBI',\n",
       " 'B010CKGBVE',\n",
       " 'B018OERCSQ',\n",
       " 'B01EHX2BH0',\n",
       " 'B01H301G4I',\n",
       " 'B01IL2G2XW',\n",
       " 'B01L8BGT9A',\n",
       " 'B06XBPJVKC',\n",
       " 'B0721B8M3J',\n",
       " 'B073NPGMPQ',\n",
       " 'B074T1BM2G',\n",
       " 'B077KX3DL8',\n",
       " 'B077SZB94D',\n",
       " 'B078HHVWQ4',\n",
       " 'B078HXC36G',\n",
       " 'B07CYYK2QR',\n",
       " 'B07F8Y9Q6L',\n",
       " 'B07G2MM464',\n",
       " 'B07GC1SMBD',\n",
       " 'B07GSNL817',\n",
       " 'B07HDWHXH5',\n",
       " 'B07JJTBG9L',\n",
       " 'B07JLDX9LL',\n",
       " 'B07JX575DQ',\n",
       " 'B07L8BHBRL',\n",
       " 'B07MMQZNTQ',\n",
       " 'B07MYC7R6S',\n",
       " 'B07N7PWZDC',\n",
       " 'B07NQ7XKX6',\n",
       " 'B07P2B31C6',\n",
       " 'B07PLQ65QW',\n",
       " 'B07RFSHK6P',\n",
       " 'B07RZ9933S',\n",
       " 'B07VHMM1NR',\n",
       " 'B07X37KV1K',\n",
       " 'B07XRHJKQW',\n",
       " 'B07YBT4HQZ',\n",
       " 'B07ZJYNKDQ',\n",
       " 'B0816B6CRM',\n",
       " 'B081QCCD1N',\n",
       " 'B0838VZ58P',\n",
       " 'B0849TDTHZ',\n",
       " 'B084GWG2J5',\n",
       " 'B085DJ6GHF',\n",
       " 'B0871ML4JC',\n",
       " 'B087B4H1T6',\n",
       " 'B087CNFMP6',\n",
       " 'B087NY41CY',\n",
       " 'B087QKHJ98',\n",
       " 'B0897WT9N9',\n",
       " 'B089T8BGC5',\n",
       " 'B08BFNFYN6',\n",
       " 'B08CTGZP2P',\n",
       " 'B08DN27M5Z',\n",
       " 'B08DQWL5DT',\n",
       " 'B08QRN26X4',\n",
       " 'B08TRWCXNF',\n",
       " 'B08VD4S34Z',\n",
       " 'B08WVDM19B',\n",
       " 'B08YRNTCK1',\n",
       " 'B093QLNFHR',\n",
       " 'B09713RXX4']"
      ]
     },
     "execution_count": 38,
     "metadata": {},
     "output_type": "execute_result"
    }
   ],
   "source": [
    "@print_perf\n",
    "def difference_using_set(base: List[str], negate: List[str]) -> List[str]:\n",
    "    result = base\n",
    "    for id in negate:\n",
    "        if id in base:\n",
    "            result.remove(id)\n",
    "    return result\n",
    "        \n",
    "result = difference_using_set(base=union_list, negate=intersection_list)\n",
    "print(f\"Length = {len(result)}\")\n",
    "result\n"
   ]
  },
  {
   "cell_type": "markdown",
   "metadata": {},
   "source": [
    "## 8. 完全一致\n",
    "\n",
    "`product_brand` フィールドに関する転置インデックスを構築せよ。\n",
    "ただし単語に区切らず、フィールドの値をそのまま連想配列のキーとすること。\n",
    "\n"
   ]
  },
  {
   "cell_type": "markdown",
   "metadata": {},
   "source": [
    "### 回答\n"
   ]
  },
  {
   "cell_type": "code",
   "execution_count": 40,
   "metadata": {},
   "outputs": [
    {
     "name": "stdout",
     "output_type": "stream",
     "text": [
      "Start creating inverted index...\n",
      " create_product_brand_inverted_index: 6188.001ms 6188001410.000ns\n"
     ]
    },
    {
     "data": {
      "text/plain": [
       "211171"
      ]
     },
     "execution_count": 40,
     "metadata": {},
     "output_type": "execute_result"
    }
   ],
   "source": [
    "\n",
    "@print_perf\n",
    "def create_product_brand_inverted_index(products: DataFrame) -> Dict[str,List[str]]:\n",
    "    print(\"Start creating inverted index...\")\n",
    "    inverted_index = {}\n",
    "    sorted_products = products.sort_values(\"product_id\")\n",
    "    # product_brandのカラムでループ処理\n",
    "    for product in sorted_products.itertuples():\n",
    "        brand = product.product_brand\n",
    "        if brand in inverted_index:\n",
    "            inverted_index[brand].append(product.product_id)\n",
    "        else:\n",
    "            inverted_index[brand] = [product.product_id]\n",
    "    return inverted_index\n",
    "\n",
    "brand_postings = create_product_brand_inverted_index(df_products)\n",
    "len(brand_postings)"
   ]
  },
  {
   "cell_type": "markdown",
   "metadata": {},
   "source": [
    "## 9. 複数フィールドの横断\n",
    "\n",
    "転置インデックスを用いて、`product_title` フィールドに単語 `Amazon` を含み、かつ、`product_brand` フィールドの値が `Amazon Basics` **ではない**製品の数が8,681であることを確かめよ。\n",
    "\n"
   ]
  },
  {
   "cell_type": "markdown",
   "metadata": {},
   "source": [
    "### 回答\n"
   ]
  },
  {
   "cell_type": "code",
   "execution_count": 41,
   "metadata": {},
   "outputs": [
    {
     "name": "stdout",
     "output_type": "stream",
     "text": [
      " difference_using_set: 395.248ms 395248085.000ns\n"
     ]
    },
    {
     "data": {
      "text/plain": [
       "8681"
      ]
     },
     "execution_count": 41,
     "metadata": {},
     "output_type": "execute_result"
    }
   ],
   "source": [
    "amazon_title_list = loaded_dict[\"Amazon\"]\n",
    "amazon_basics_brand_list = brand_postings[\"Amazon Basics\"]\n",
    "\n",
    "result = difference_using_set(base=amazon_title_list, negate=amazon_basics_brand_list)\n",
    "\n",
    "len(result)\n"
   ]
  },
  {
   "cell_type": "markdown",
   "metadata": {},
   "source": [
    "## 10. プレフィックス\n",
    "\n",
    "`3.` で構築した転置インデックスを圧縮する。\n",
    "`product_id` が固定長であり、かつ辞書順にソートされていることを利用して、ポスティングリスト上で前の `product_id` と共通のプレフィックスを省略せよ。\n",
    "このとき、ポスティングリストのイテレータ（`product_id` を復元して返す）も実装せよ。\n",
    "\n"
   ]
  },
  {
   "cell_type": "markdown",
   "metadata": {},
   "source": [
    "### 回答\n"
   ]
  },
  {
   "cell_type": "code",
   "execution_count": null,
   "metadata": {},
   "outputs": [],
   "source": []
  },
  {
   "cell_type": "markdown",
   "metadata": {},
   "source": [
    "## 11. 符号化\n",
    "\n",
    "前問で構築した転置インデックスを更に圧縮する。\n",
    "ポスティングリストとは別に全ての `product_id` の辞書順の配列を保存しておき、そのインデックスによってポスティングリストから `product_id` を参照するようにせよ。\n",
    "また、イテレータも実装せよ。\n",
    "\n"
   ]
  },
  {
   "cell_type": "markdown",
   "metadata": {},
   "source": [
    "### 回答\n"
   ]
  },
  {
   "cell_type": "code",
   "execution_count": null,
   "metadata": {},
   "outputs": [],
   "source": []
  },
  {
   "cell_type": "markdown",
   "metadata": {},
   "source": [
    "## 12. Variable Byte Encoding\n",
    "\n",
    "前問で構築した転置インデックスを更に圧縮する。\n",
    "ポスティングリスト中のインデックスが単調増加することを利用して、前のインデックスからの差を保存せよ。\n",
    "このとき、差は小さな整数になると期待されるので、variable byte encodingにより圧縮せよ。\n",
    "また、イテレータも実装せよ。\n"
   ]
  },
  {
   "cell_type": "markdown",
   "metadata": {},
   "source": [
    "### 回答\n"
   ]
  },
  {
   "cell_type": "code",
   "execution_count": null,
   "metadata": {},
   "outputs": [],
   "source": []
  }
 ],
 "metadata": {
  "kernelspec": {
   "display_name": ".venv",
   "language": "python",
   "name": "python3"
  },
  "language_info": {
   "codemirror_mode": {
    "name": "ipython",
    "version": 3
   },
   "file_extension": ".py",
   "mimetype": "text/x-python",
   "name": "python",
   "nbconvert_exporter": "python",
   "pygments_lexer": "ipython3",
   "version": "3.11.4"
  },
  "orig_nbformat": 4
 },
 "nbformat": 4,
 "nbformat_minor": 2
}
